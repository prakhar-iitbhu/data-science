{
 "cells": [
  {
   "cell_type": "markdown",
   "id": "5aa15828-aac1-49f2-bebb-3eca80a6163e",
   "metadata": {},
   "source": [
    "Q1. What is multiprocessing in python? Why is it useful?"
   ]
  },
  {
   "cell_type": "markdown",
   "id": "1621ec1d-5806-47fb-a373-793b46d375b4",
   "metadata": {},
   "source": [
    "Multiprocessing in Python is a built-in package that allows the system to run multiple processes simultaneously. It will enable the breaking of applications into smaller threads that can run independently.\n",
    "\n",
    "Multiprocessing is useful because:\n",
    "\n",
    "1. It uses simple coding that's easy to understand.\n",
    "2. It helps you overcome global interpreter lock (GIL) limitations in CPython.\n",
    "3. Child processes can be interrupted.\n",
    "4. It completes tasks faster and analyzes large amounts of data.\n",
    "5. It uses multiple CPUs to improve a system's overall power."
   ]
  },
  {
   "cell_type": "markdown",
   "id": "c89023a9-0b06-4e87-9127-4af00aa2c68b",
   "metadata": {},
   "source": [
    "Q2. What are the differences between multiprocessing and multithreading?"
   ]
  },
  {
   "cell_type": "markdown",
   "id": "35ba0642-2ed6-44e9-b1a4-fb4c2af1317a",
   "metadata": {},
   "source": [
    "1. Multiprocessing uses two or more CPUs to increase computing power, whereas multithreading uses a single process with multiple code segments to increase computing power.\n",
    "\n",
    "2. Multithreading focuses on generating computing threads from a single process, whereas multiprocessing increases computing power by adding CPUs.\n",
    "\n",
    "3. Multiprocessing is used to create a more reliable system, whereas multithreading is used to create threads that run parallel to each other.\n",
    "\n",
    "4. multithreading is quick to create and requires few resources, whereas multiprocessing requires a significant amount of time and specific resources to create.\n",
    "\n",
    "5. Multiprocessing executes many processes simultaneously, whereas multithreading executes many threads simultaneously.\n",
    "\n",
    "6. Multithreading uses a common address space for all the threads, whereas multiprocessing creates a separate address space for each process."
   ]
  },
  {
   "cell_type": "markdown",
   "id": "3d5691b3-819c-4abb-94cd-1381384eba9f",
   "metadata": {},
   "source": [
    "Q3. Write a python code to create a process using the multiprocessing module."
   ]
  },
  {
   "cell_type": "code",
   "execution_count": 1,
   "id": "255ee2fb-c35e-4134-ad08-156ba17c49ac",
   "metadata": {},
   "outputs": [
    {
     "name": "stdout",
     "output_type": "stream",
     "text": [
      "[1, 4, 9, 16, 25]\n"
     ]
    }
   ],
   "source": [
    "import multiprocessing\n",
    "\n",
    "def sqr(n):\n",
    "    return n**2\n",
    "\n",
    "if __name__=='__main__':\n",
    "    with multiprocessing.Pool(processes=5) as pool:\n",
    "        a=pool.map(sqr, [1,2,3,4,5])\n",
    "        print(a)"
   ]
  },
  {
   "cell_type": "markdown",
   "id": "13171a0f-cdb5-4fe8-9273-c43d02041561",
   "metadata": {},
   "source": [
    "Q4. What is a multiprocessing pool in python? Why is it used?"
   ]
  },
  {
   "cell_type": "markdown",
   "id": "c2c90423-0ff2-4031-a65c-972d4a15c6df",
   "metadata": {},
   "source": [
    "Python multiprocessing Pool can be used for parallel execution of a function across multiple input values, distributing the input data across processes (data parallelism).\n",
    "\n",
    "The Pool class in multiprocessing can handle an enormous number of processes. It allows you to run multiple jobs per process (due to its ability to queue the jobs). The memory is allocated only to the executing processes, unlike the Process class, which allocates memory to all the processes."
   ]
  },
  {
   "cell_type": "markdown",
   "id": "a48b6565-1cd8-4a4a-a732-4ba8461ca6d6",
   "metadata": {},
   "source": [
    "Q5. How can we create a pool of worker processes in python using the multiprocessing module?"
   ]
  },
  {
   "cell_type": "markdown",
   "id": "6241e72c-6b7e-47f7-b9fc-c0b662752290",
   "metadata": {},
   "source": [
    "We can configure the number of worker processes in the multiprocessing.pool.Pool by setting the “processes” argument in the constructor. By default this equals the number of logical CPUs in your system.\n",
    "\n",
    "We can set the “processes” argument to specify the number of child processes to create and use as workers in the process pool.\n",
    "\n",
    "# create a process pool with 4 workers\n",
    "pool = multiprocessing.pool.Pool(processes=4)"
   ]
  },
  {
   "cell_type": "markdown",
   "id": "4a0a216f-96c8-49ae-929b-c837ac6f9db1",
   "metadata": {},
   "source": [
    "Q6. Write a python program to create 4 processes, each process should print a different number using the multiprocessing module in python."
   ]
  },
  {
   "cell_type": "code",
   "execution_count": 13,
   "id": "e56fcec1-340d-4bec-8399-1593da031f9e",
   "metadata": {},
   "outputs": [
    {
     "name": "stdout",
     "output_type": "stream",
     "text": [
      "Square: 100\n",
      "Cube: 1000\n",
      "Sum of first 10 natural numbers: 55.0\n",
      "Sum of square of first 3 natural numbers: 1.7320508075688772\n"
     ]
    }
   ],
   "source": [
    "import multiprocessing, math\n",
    "\n",
    "def sqr(n):\n",
    "    print(\"Square: {}\".format(n**2))\n",
    "\n",
    "def cube(n):\n",
    "    print(\"Cube: {}\".format(n**3))\n",
    "\n",
    "def sum_n(n):\n",
    "    print(\"Sum of first {} natural numbers: {}\".format(n, (n*(n+1))/2))\n",
    "    \n",
    "def sqrt_n(n):\n",
    "    print(\"Sum of square of first {} natural numbers: {}\".format(n, math.sqrt(n)))\n",
    "    \n",
    "if __name__=='__main__':\n",
    "    sqr=multiprocessing.Process(target=sqr, args=(10,))\n",
    "    cube=multiprocessing.Process(target=cube, args=(10,))\n",
    "    sum_n=multiprocessing.Process(target=sum_n, args=(10,))\n",
    "    sqrt_n=multiprocessing.Process(target=sqrt_n, args=(3,))\n",
    "          \n",
    "    sqr.start()\n",
    "    cube.start()\n",
    "    sum_n.start()\n",
    "    sqrt_n.start()\n",
    "          \n",
    "    sqr.join()\n",
    "    cube.join()\n",
    "    sum_n.join()\n",
    "    sqrt_n.join()"
   ]
  }
 ],
 "metadata": {
  "kernelspec": {
   "display_name": "Python 3 (ipykernel)",
   "language": "python",
   "name": "python3"
  },
  "language_info": {
   "codemirror_mode": {
    "name": "ipython",
    "version": 3
   },
   "file_extension": ".py",
   "mimetype": "text/x-python",
   "name": "python",
   "nbconvert_exporter": "python",
   "pygments_lexer": "ipython3",
   "version": "3.10.8"
  }
 },
 "nbformat": 4,
 "nbformat_minor": 5
}
