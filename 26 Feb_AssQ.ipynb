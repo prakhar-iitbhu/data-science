{
 "cells": [
  {
   "cell_type": "code",
   "execution_count": 3,
   "id": "a93427f5-be00-43d9-a88e-f6e48493e797",
   "metadata": {},
   "outputs": [
    {
     "data": {
      "text/plain": [
       "array(['1', '2', '3', '4', '5'], dtype='<U1')"
      ]
     },
     "execution_count": 3,
     "metadata": {},
     "output_type": "execute_result"
    }
   ],
   "source": [
    "import numpy as np\n",
    "\n",
    "list_ = [ '1' , '2' , '3' , '4' , '5' ]\n",
    "\n",
    "array_list = np.array(object = list_)\n",
    "array_list"
   ]
  },
  {
   "cell_type": "markdown",
   "id": "3dbb358b-3d64-4ede-ad68-a82839023873",
   "metadata": {},
   "source": [
    "Q1. Is there any difference in the data type of variables list_ and array_list? If there is then write a code to print the data types of both the variables."
   ]
  },
  {
   "cell_type": "markdown",
   "id": "00dc5cf2-d6db-430b-a43b-766372d9d69b",
   "metadata": {},
   "source": [
    "Yes, there is a difference in the data type of both the variables as given below:"
   ]
  },
  {
   "cell_type": "code",
   "execution_count": 12,
   "id": "11090643-b184-4b01-b853-1fcf21905102",
   "metadata": {},
   "outputs": [
    {
     "data": {
      "text/plain": [
       "list"
      ]
     },
     "execution_count": 12,
     "metadata": {},
     "output_type": "execute_result"
    }
   ],
   "source": [
    "type(list_)"
   ]
  },
  {
   "cell_type": "code",
   "execution_count": 13,
   "id": "4a4d0957-6e4b-4c69-9bdb-801c5fa011b8",
   "metadata": {},
   "outputs": [
    {
     "data": {
      "text/plain": [
       "numpy.ndarray"
      ]
     },
     "execution_count": 13,
     "metadata": {},
     "output_type": "execute_result"
    }
   ],
   "source": [
    "type(array_list)"
   ]
  },
  {
   "cell_type": "markdown",
   "id": "8973daa9-4eef-4bd8-92cf-7568fd2ff40d",
   "metadata": {},
   "source": [
    "Q2. Write a code to print the data type of each and every element of both the variables list_ and arra_list."
   ]
  },
  {
   "cell_type": "code",
   "execution_count": 20,
   "id": "12579221-610d-4e35-b6fa-866075221f92",
   "metadata": {},
   "outputs": [
    {
     "name": "stdout",
     "output_type": "stream",
     "text": [
      "Datatype of 1 in list_ is: <class 'str'>\n",
      "Datatype of 2 in list_ is: <class 'str'>\n",
      "Datatype of 3 in list_ is: <class 'str'>\n",
      "Datatype of 4 in list_ is: <class 'str'>\n",
      "Datatype of 5 in list_ is: <class 'str'>\n"
     ]
    }
   ],
   "source": [
    "for i in list_:\n",
    "    print(f\"Datatype of {i} in list_ is: {type(i)}\")"
   ]
  },
  {
   "cell_type": "code",
   "execution_count": 19,
   "id": "edd6c920-fc1c-40de-96e9-00b371399dd3",
   "metadata": {},
   "outputs": [
    {
     "name": "stdout",
     "output_type": "stream",
     "text": [
      "Datatype of 1 in array_list is: <class 'numpy.str_'>\n",
      "Datatype of 2 in array_list is: <class 'numpy.str_'>\n",
      "Datatype of 3 in array_list is: <class 'numpy.str_'>\n",
      "Datatype of 4 in array_list is: <class 'numpy.str_'>\n",
      "Datatype of 5 in array_list is: <class 'numpy.str_'>\n"
     ]
    }
   ],
   "source": [
    "for i in array_list:\n",
    "    print(f\"Datatype of {i} in array_list is: {type(i)}\")"
   ]
  },
  {
   "cell_type": "markdown",
   "id": "127c9972-3f6e-4041-98a7-f1f1fbb6b69c",
   "metadata": {},
   "source": [
    "Q3. Considering the following changes in the variable, array_list:\n",
    "\n",
    "array_list = np.array(object = list_, dtype = int)\n",
    "\n",
    "Will there be any difference in the data type of the elements present in both the variables, list_ and arra_list? If so then print the data types of each and every element present in both the variables, list_ and arra_list."
   ]
  },
  {
   "cell_type": "code",
   "execution_count": 23,
   "id": "7db295db-2e6e-4d62-a5da-261bdd362d0e",
   "metadata": {},
   "outputs": [],
   "source": [
    "array_list = np.array(object = list_, dtype = int)"
   ]
  },
  {
   "cell_type": "code",
   "execution_count": 25,
   "id": "6eaa45f0-0cfb-4c11-a1f5-d821033af6b3",
   "metadata": {},
   "outputs": [
    {
     "name": "stdout",
     "output_type": "stream",
     "text": [
      "Datatype of 1 in list_ is: <class 'str'>\n",
      "Datatype of 2 in list_ is: <class 'str'>\n",
      "Datatype of 3 in list_ is: <class 'str'>\n",
      "Datatype of 4 in list_ is: <class 'str'>\n",
      "Datatype of 5 in list_ is: <class 'str'>\n"
     ]
    }
   ],
   "source": [
    "for i in list_:\n",
    "    print(f\"Datatype of {i} in list_ is: {type(i)}\")"
   ]
  },
  {
   "cell_type": "code",
   "execution_count": 26,
   "id": "e2abc82a-4847-4a28-8b6f-248e4673465e",
   "metadata": {},
   "outputs": [
    {
     "name": "stdout",
     "output_type": "stream",
     "text": [
      "Datatype of 1 in array_list is: <class 'numpy.int64'>\n",
      "Datatype of 2 in array_list is: <class 'numpy.int64'>\n",
      "Datatype of 3 in array_list is: <class 'numpy.int64'>\n",
      "Datatype of 4 in array_list is: <class 'numpy.int64'>\n",
      "Datatype of 5 in array_list is: <class 'numpy.int64'>\n"
     ]
    }
   ],
   "source": [
    "for i in array_list:\n",
    "    print(f\"Datatype of {i} in array_list is: {type(i)}\")"
   ]
  },
  {
   "cell_type": "markdown",
   "id": "b4169d4d-359f-4cb6-a6db-846318d42f64",
   "metadata": {},
   "source": [
    "the datatype of elements in list_ is same while the datatypes of array_list has been changed from str to int"
   ]
  },
  {
   "cell_type": "code",
   "execution_count": 1,
   "id": "e8a5b61c-1a89-4207-ba21-0d43e0e5f1b5",
   "metadata": {},
   "outputs": [],
   "source": [
    "#Consider the below code to answer further questions:\n",
    "\n",
    "import numpy as np\n",
    "\n",
    "num_list = [ [ 1 , 2 , 3 ] , [ 4 , 5 , 6 ] ]\n",
    "\n",
    "num_array = np.array(object = num_list)"
   ]
  },
  {
   "cell_type": "markdown",
   "id": "c79b7d1a-d611-4515-81d1-c4c151ad41b3",
   "metadata": {},
   "source": [
    "Q4. Write a code to find the following characteristics of variable, num_array:\n",
    "1. shape\n",
    "2. size"
   ]
  },
  {
   "cell_type": "code",
   "execution_count": 3,
   "id": "d89e0e60-8f7e-4692-9d74-f01b403b8a7f",
   "metadata": {},
   "outputs": [
    {
     "data": {
      "text/plain": [
       "(2, 3)"
      ]
     },
     "execution_count": 3,
     "metadata": {},
     "output_type": "execute_result"
    }
   ],
   "source": [
    "num_array.shape"
   ]
  },
  {
   "cell_type": "code",
   "execution_count": 4,
   "id": "d3aa173b-a0fe-4ac6-bd8d-d764ec5e3087",
   "metadata": {},
   "outputs": [
    {
     "data": {
      "text/plain": [
       "6"
      ]
     },
     "execution_count": 4,
     "metadata": {},
     "output_type": "execute_result"
    }
   ],
   "source": [
    "num_array.size"
   ]
  },
  {
   "cell_type": "markdown",
   "id": "e91ec0f9-b035-45ab-8a69-50fcb5547049",
   "metadata": {},
   "source": [
    "Q5. Write a code to create numpy array of 3*3 matrix containing zeros only, using a numpy array creation function.\n",
    "\n",
    "[Hint: The size of the array will be 9 and the shape will be (3,3).]"
   ]
  },
  {
   "cell_type": "code",
   "execution_count": 20,
   "id": "b46b99b6-ee0b-4253-a7c1-c6732a1fa341",
   "metadata": {},
   "outputs": [],
   "source": [
    "nump_array=np.array([[0,0,0],[0,0,0],[0,0,0]])\n",
    "numpp_array=np.zeros([3,3],dtype=int)"
   ]
  },
  {
   "cell_type": "code",
   "execution_count": 22,
   "id": "19caaeee-368b-446c-b969-07ae0eefdaf4",
   "metadata": {},
   "outputs": [
    {
     "data": {
      "text/plain": [
       "array([[0, 0, 0],\n",
       "       [0, 0, 0],\n",
       "       [0, 0, 0]])"
      ]
     },
     "execution_count": 22,
     "metadata": {},
     "output_type": "execute_result"
    }
   ],
   "source": [
    "nump_array"
   ]
  },
  {
   "cell_type": "code",
   "execution_count": 23,
   "id": "135c8b0b-6d90-4bc8-87ba-b671368bc24a",
   "metadata": {},
   "outputs": [
    {
     "data": {
      "text/plain": [
       "array([[0, 0, 0],\n",
       "       [0, 0, 0],\n",
       "       [0, 0, 0]])"
      ]
     },
     "execution_count": 23,
     "metadata": {},
     "output_type": "execute_result"
    }
   ],
   "source": [
    "numpp_array"
   ]
  },
  {
   "cell_type": "markdown",
   "id": "4a281f89-5f15-4e52-9c13-7a95e51245a5",
   "metadata": {},
   "source": [
    "Q6. Create an identity matrix of shape (5,5) using numpy functions?\n",
    "\n",
    "[Hint: An identity matrix is a matrix containing 1 diagonally and other elements will be 0.]"
   ]
  },
  {
   "cell_type": "code",
   "execution_count": 24,
   "id": "899303e3-aab6-456f-b7fd-b19af7f6835e",
   "metadata": {},
   "outputs": [],
   "source": [
    "identity_matrix=np.identity(5)"
   ]
  },
  {
   "cell_type": "code",
   "execution_count": 25,
   "id": "932601a5-f0db-4592-98e0-a11c405bf970",
   "metadata": {},
   "outputs": [
    {
     "data": {
      "text/plain": [
       "array([[1., 0., 0., 0., 0.],\n",
       "       [0., 1., 0., 0., 0.],\n",
       "       [0., 0., 1., 0., 0.],\n",
       "       [0., 0., 0., 1., 0.],\n",
       "       [0., 0., 0., 0., 1.]])"
      ]
     },
     "execution_count": 25,
     "metadata": {},
     "output_type": "execute_result"
    }
   ],
   "source": [
    "identity_matrix"
   ]
  }
 ],
 "metadata": {
  "kernelspec": {
   "display_name": "Python 3 (ipykernel)",
   "language": "python",
   "name": "python3"
  },
  "language_info": {
   "codemirror_mode": {
    "name": "ipython",
    "version": 3
   },
   "file_extension": ".py",
   "mimetype": "text/x-python",
   "name": "python",
   "nbconvert_exporter": "python",
   "pygments_lexer": "ipython3",
   "version": "3.10.8"
  }
 },
 "nbformat": 4,
 "nbformat_minor": 5
}
