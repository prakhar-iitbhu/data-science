{
 "cells": [
  {
   "cell_type": "markdown",
   "id": "129c1ef3-49e2-4a76-b928-013589676653",
   "metadata": {},
   "source": [
    "Q1. What is Flask Framework? What are the advantages of Flask Framework?"
   ]
  },
  {
   "cell_type": "markdown",
   "id": "6a4a9246-569b-4f13-9524-d30f54f8ea8f",
   "metadata": {},
   "source": [
    "The framework is the basis upon which software programs are built. It serves as a foundation for software developers, allowing them to create a variety of applications for certain platforms. It is a set of functions and predefined classes used to connect with the system software and handle inputs and outputs.\n",
    "\n",
    "It simplifies the life of a developer while giving them the ability to use certain extensions and makes the online applications scalable and maintainable.\n",
    "\n",
    "Advantages of Flask Framework:\n",
    "\n",
    "* It is a lightweight framework that offers hassle-free development.\n",
    "* Provide flexibility to the developer to experiment with their modules or architecture.\n",
    "* It is suitable for small projects.\n",
    "* Offers a built-in development server and fast debugger.\n",
    "* Easily scalable for the applications.\n",
    "* Support for secure cookies."
   ]
  },
  {
   "cell_type": "markdown",
   "id": "171b2ee1-23f0-4b87-875a-02e72081bd85",
   "metadata": {},
   "source": [
    "Q2. Create a simple Flask application to display ‘Hello World!!’."
   ]
  },
  {
   "cell_type": "code",
   "execution_count": 1,
   "id": "d7416d27-d32a-4d18-89ad-4645666c9847",
   "metadata": {},
   "outputs": [
    {
     "ename": "ModuleNotFoundError",
     "evalue": "No module named 'flask'",
     "output_type": "error",
     "traceback": [
      "\u001b[0;31m---------------------------------------------------------------------------\u001b[0m",
      "\u001b[0;31mModuleNotFoundError\u001b[0m                       Traceback (most recent call last)",
      "Cell \u001b[0;32mIn[1], line 1\u001b[0m\n\u001b[0;32m----> 1\u001b[0m \u001b[38;5;28;01mfrom\u001b[39;00m \u001b[38;5;21;01mflask\u001b[39;00m \u001b[38;5;28;01mimport\u001b[39;00m Flask\n\u001b[1;32m      3\u001b[0m app \u001b[38;5;241m=\u001b[39m Flask(\u001b[38;5;18m__name__\u001b[39m)\n\u001b[1;32m      5\u001b[0m \u001b[38;5;129m@app\u001b[39m\u001b[38;5;241m.\u001b[39mroute(\u001b[38;5;124m\"\u001b[39m\u001b[38;5;124m/\u001b[39m\u001b[38;5;124m\"\u001b[39m)\n\u001b[1;32m      6\u001b[0m \u001b[38;5;28;01mdef\u001b[39;00m \u001b[38;5;21mhello_world\u001b[39m():\n",
      "\u001b[0;31mModuleNotFoundError\u001b[0m: No module named 'flask'"
     ]
    }
   ],
   "source": [
    "from flask import Flask\n",
    "\n",
    "app = Flask(__name__)\n",
    "\n",
    "@app.route(\"/\")\n",
    "def hello_world():\n",
    "    return \"Hello, World!\"\n",
    "\n",
    "if __name__==\"__main__\":\n",
    "    app.run(host=\"0.0.0.0\")"
   ]
  },
  {
   "cell_type": "markdown",
   "id": "0c15329d-adcd-426e-9130-715b3affa2fb",
   "metadata": {},
   "source": [
    "Q3. What is App routing in Flask? Why do we use app routes?"
   ]
  },
  {
   "cell_type": "markdown",
   "id": "de83c57a-b064-48c2-b24b-ab6dc7e5fc7d",
   "metadata": {},
   "source": [
    "App routing is the technique used to map the specific URL with the associated function intended to perform some task. The Latest Web frameworks use the routing technique to help users remember application URLs. It is helpful to access the desired page directly without navigating from the home page.\n",
    "\n",
    "To bind a function to an URL path we use the app.route decorator. If the site’s domain is www.example.org and we want to add routing to “www.example.org/hello”, we would use “/hello”. "
   ]
  },
  {
   "cell_type": "markdown",
   "id": "96d736a2-5f40-4524-963b-b75d87041556",
   "metadata": {},
   "source": [
    "Q4. Create a “/welcome” route to display the welcome message “Welcome to ABC Corporation” and a “/”\n",
    "route to show the following details:\n",
    "\n",
    "Company Name: ABC Corporation\n",
    "\n",
    "Location: India\n",
    "\n",
    "Contact Detail: 999-999-9999\n",
    "Attach the screenshot of the output in Jupyter Notebook."
   ]
  },
  {
   "cell_type": "code",
   "execution_count": null,
   "id": "747a98af-78d0-4eed-81db-e21c571bb4be",
   "metadata": {},
   "outputs": [],
   "source": [
    "from flask import Flask\n",
    "\n",
    "app = Flask(__name__)\n",
    "\n",
    "@app.route(\"/welcome\")\n",
    "def welcome():\n",
    "    return \"Welcome to ABC Corporation\"\n",
    "\n",
    "@app.route(\"/\")\n",
    "def company():\n",
    "    return \"Company Name: ABC Corporation <br>Location: India <br>Contact Detail: 999-999-9999\"\n",
    "\n",
    "if __name__==\"__main__\":\n",
    "    app.run(host=\"0.0.0.0\")"
   ]
  },
  {
   "cell_type": "markdown",
   "id": "6fb3da2a-38c2-4304-acf3-84c6bf6d5afd",
   "metadata": {},
   "source": [
    "Q5. What function is used in Flask for URL Building? Write a Python code to demonstrate the working of the\n",
    "url_for() function."
   ]
  },
  {
   "cell_type": "markdown",
   "id": "800b1a93-c3a3-4760-b104-e675b589c0db",
   "metadata": {},
   "source": [
    "Flask url_for is defined as a function that enables developers to build and generate URLs on a Flask application. As a best practice, it is the url_for function that is required to be used, as hard coding the URL in templates and view function of the Flask application tends to utilize more time during modification."
   ]
  },
  {
   "cell_type": "code",
   "execution_count": null,
   "id": "2c714197-ee6e-4cf5-baea-183f3dc7f2ff",
   "metadata": {},
   "outputs": [],
   "source": []
  }
 ],
 "metadata": {
  "kernelspec": {
   "display_name": "Python 3 (ipykernel)",
   "language": "python",
   "name": "python3"
  },
  "language_info": {
   "codemirror_mode": {
    "name": "ipython",
    "version": 3
   },
   "file_extension": ".py",
   "mimetype": "text/x-python",
   "name": "python",
   "nbconvert_exporter": "python",
   "pygments_lexer": "ipython3",
   "version": "3.10.8"
  }
 },
 "nbformat": 4,
 "nbformat_minor": 5
}
