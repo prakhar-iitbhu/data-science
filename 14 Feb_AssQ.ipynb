{
 "cells": [
  {
   "cell_type": "markdown",
   "id": "201a5e92-583b-4840-a0a8-0dcaec5fdb53",
   "metadata": {},
   "source": [
    "Q1. What is multithreading in python? Why is it used? Name the module used to handle threads in python. "
   ]
  },
  {
   "cell_type": "markdown",
   "id": "adb791b5-5185-4d86-b20f-2b85f2696468",
   "metadata": {},
   "source": [
    "Multithreading is defined as the ability of a processor to execute multiple threads concurrently. In a simple, single-core CPU, it is achieved using frequent switching between threads.\n",
    "\n",
    "Python multithreading enables efficient utilization of the resources as the threads share the data space and memory. Multithreading in Python allows the concurrent and parallel occurrence of various tasks. It causes a reduction in time consumption or response time, thereby increasing the performance.\n",
    "\n",
    "in Python, threading module is used to handle threads which provides a very simple and intuitive API for spawning multiple threads in a program."
   ]
  },
  {
   "cell_type": "markdown",
   "id": "fe46be77-3d46-4eed-8a30-ad581c94651d",
   "metadata": {},
   "source": [
    "Q2. Why threading module used? Write the use of the following functions: \n",
    "1. activeCount() \n",
    "2. currentThread() \n",
    "3. enumerate()  "
   ]
  },
  {
   "cell_type": "markdown",
   "id": "3a17cb78-0cd0-4849-ad77-c0533d4f4b7d",
   "metadata": {},
   "source": [
    "Threading module is used for creating, controlling and managing threads in python.\n",
    "\n",
    "1. activeCount() − Returns the number of thread objects that are active.\n",
    "2. currentThread() − Returns the number of thread objects in the caller's thread control.\n",
    "3. enumerate() − Returns a list of all thread objects that are currently active."
   ]
  },
  {
   "cell_type": "markdown",
   "id": "93fa6b43-4ca3-4dab-9f49-166a7528da1b",
   "metadata": {},
   "source": [
    "Q3. Explain the following functions: \n",
    "1. run() \n",
    "2. start() \n",
    "3. join() \n",
    "4. isAlive() "
   ]
  },
  {
   "cell_type": "markdown",
   "id": "b93a9e22-b20a-40b5-a7c3-2d30bbbec766",
   "metadata": {},
   "source": [
    "1. run() − The run() method is the entry point for a thread.\n",
    "2. start() − The start() method starts a thread by calling the run method.\n",
    "3. join() − The join() waits for threads to terminate.\n",
    "4. isAlive() − The isAlive() method checks whether a thread is still executing."
   ]
  },
  {
   "cell_type": "markdown",
   "id": "3a246337-ebbe-4c90-a056-c3846a4f5345",
   "metadata": {},
   "source": [
    "Q4. Write a python program to create two threads. Thread one must print the list of squares and thread two must print the list of cubes. "
   ]
  },
  {
   "cell_type": "code",
   "execution_count": 12,
   "id": "743e0ff8-38c8-4712-98f1-625cf781f870",
   "metadata": {},
   "outputs": [
    {
     "name": "stdout",
     "output_type": "stream",
     "text": [
      "[1, 4, 9, 16, 25]\n",
      "[1, 8, 27, 64, 125]\n"
     ]
    }
   ],
   "source": [
    "import threading\n",
    "a=[]\n",
    "b=[]\n",
    "def print_square(x):\n",
    "    a.append(x*x)\n",
    "\n",
    "def print_cube(x):    \n",
    "    b.append(x*x*x)\n",
    "    \n",
    "square=[threading.Thread(target=print_square, args=(i,)) for i in [1,2,3,4,5]]\n",
    "cube=[threading.Thread(target=print_cube, args=(i,)) for i in [1,2,3,4,5]]\n",
    "\n",
    "for t in square:\n",
    "    t.start()\n",
    "print(a)\n",
    "for t in cube:\n",
    "    t.start()\n",
    "print(b)"
   ]
  },
  {
   "cell_type": "markdown",
   "id": "20d45593-875c-4f7a-b123-40d9d80260a0",
   "metadata": {},
   "source": [
    "Q5. State advantages and disadvantages of multithreading."
   ]
  },
  {
   "cell_type": "markdown",
   "id": "69532b4c-c3e2-4cf2-b3a4-4223fe18eb58",
   "metadata": {},
   "source": [
    "Following are some of the common advantages of multithreading:\n",
    "\n",
    "1. Enhanced performance by decreased development time\n",
    "2. Simplified and streamlined program coding\n",
    "3. Improvised GUI responsiveness\n",
    "4. Simultaneous and parallelized occurrence of tasks\n",
    "5. Better use of cache storage by utilization of resources\n",
    "6. Decreased cost of maintenance\n",
    "7. Better use of CPU resource\n",
    "\n",
    "Following are some of the common disadvantages of multithreading:\n",
    "\n",
    "1. Complex debugging and testing processes\n",
    "2. Overhead switching of context\n",
    "3. Increased potential for deadlock occurrence\n",
    "4. Increased difficulty level in writing a program\n",
    "5. Unpredictable results"
   ]
  }
 ],
 "metadata": {
  "kernelspec": {
   "display_name": "Python 3 (ipykernel)",
   "language": "python",
   "name": "python3"
  },
  "language_info": {
   "codemirror_mode": {
    "name": "ipython",
    "version": 3
   },
   "file_extension": ".py",
   "mimetype": "text/x-python",
   "name": "python",
   "nbconvert_exporter": "python",
   "pygments_lexer": "ipython3",
   "version": "3.10.8"
  }
 },
 "nbformat": 4,
 "nbformat_minor": 5
}
