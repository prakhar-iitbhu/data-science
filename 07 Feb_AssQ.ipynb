{
 "cells": [
  {
   "cell_type": "markdown",
   "id": "2e720cdd-dee8-418c-b2eb-c670182585b5",
   "metadata": {},
   "source": [
    "Q1. You are writing code for a company. The requirement of the company is that you create a python function that will check whether the password entered by the user is correct or not. The function should take the password as input and return the string \"Valid Password\" if the entered password follows the below-given password guidelines else it should return \"Invalid Password\".\n",
    "Note: \n",
    "\n",
    "1. The Password should contain at least two uppercase letters and at least two lowercase letters.\n",
    "2. The Password should contain at least a number and three special characters.\n",
    "3. The length of the password should be 10 characters long."
   ]
  },
  {
   "cell_type": "code",
   "execution_count": 4,
   "id": "2b76f497-c109-4301-8c32-5938974a00a9",
   "metadata": {},
   "outputs": [
    {
     "name": "stdin",
     "output_type": "stream",
     "text": [
      "Enter your password:  ASdf@1234\n"
     ]
    },
    {
     "name": "stdout",
     "output_type": "stream",
     "text": [
      "Invalid Password\n"
     ]
    }
   ],
   "source": [
    "def password(inpt):\n",
    "    x,y,z,a=0,0,0,0\n",
    "    for i in inpt:\n",
    "        if ord(i)>=97 and ord(i)<=122:\n",
    "            x+=1\n",
    "        elif ord(i)>=65 and ord(i)<=90:\n",
    "            y+=1\n",
    "        elif ord(i)>=48 and ord(i)<=57:\n",
    "            z+=1\n",
    "        elif (ord(i)>=32 and ord(i)<=47):\n",
    "            a+=1\n",
    "        elif (ord(i)>=58 and ord(i)<=64):\n",
    "            a+=1\n",
    "    if (len(inpt)==10) and x>=2 and y>=2 and z>=1 and a>=3:\n",
    "        print(\"Valid Password\")\n",
    "    else:\n",
    "        print(\"Invalid Password\")\n",
    "\n",
    "inpt=input(\"Enter your password: \")   \n",
    "password(inpt)"
   ]
  },
  {
   "cell_type": "markdown",
   "id": "535741ac-85ee-4bc7-86f5-6663ff50fe76",
   "metadata": {},
   "source": [
    "Q2. Solve the below-given questions using at least one of the following:\n",
    "\n",
    "1. Lambda function\n",
    "2. Filter function\n",
    "3. Map function\n",
    "4. List Comprehension\n",
    "________________________________________________\n",
    "\n",
    "1. Check if the string starts with a particular letter.\n",
    "2. Check if the string is numeric.\n",
    "3. Sort a list of tuples having fruit names and their quantity [(“mango\",99),(\"oronge\",8O),(\"grapes,1000)]\n",
    "4. Find the squares of numbers from 1 to 10.\n",
    "5. Find the cube root of numbers from 1 to 10.\n",
    "6. Check if a given number is even.\n",
    "7. Filter odd numbers from the given list.\n",
    "        [1,2,3,4,5,6,7,8,9,10]\n",
    "8. Sort a list of integers into positive and negative integers lists.\n",
    "        [1,2,3,4,5,6,-1,-2,-3,-4,-5,0]\n"
   ]
  },
  {
   "cell_type": "code",
   "execution_count": 5,
   "id": "a9aa2429-84a3-44b5-bb25-7acd2eefa513",
   "metadata": {},
   "outputs": [
    {
     "name": "stdin",
     "output_type": "stream",
     "text": [
      "Enter string prakhar bajpai\n",
      "Enter letter prakhar\n"
     ]
    },
    {
     "name": "stdout",
     "output_type": "stream",
     "text": [
      "'prakhar bajpai' starts with 'prakhar'.\n"
     ]
    }
   ],
   "source": [
    "def prog_1(strng, chck):\n",
    "    x=lambda a, b: f\"'{a}' starts with '{b}'.\" if (a.startswith(b)) else f\"'{a}' do not starts with '{b}'.\"\n",
    "    print(x(strng,chck))\n",
    "        \n",
    "strng=input(\"Enter string\")\n",
    "chck=input(\"Enter letter\")\n",
    "prog_1(strng,chck)"
   ]
  },
  {
   "cell_type": "code",
   "execution_count": 2,
   "id": "ff799229-2f61-4a40-acfe-9dfa4588c673",
   "metadata": {},
   "outputs": [
    {
     "name": "stdin",
     "output_type": "stream",
     "text": [
      "Enter string 12345\n"
     ]
    },
    {
     "name": "stdout",
     "output_type": "stream",
     "text": [
      "'12345' is numeric.\n"
     ]
    }
   ],
   "source": [
    "def prog_2(strng):\n",
    "    x=lambda a: f\"'{a}' is numeric.\" if (a.isnumeric()) else f\"'{a}' is not numeric.\"\n",
    "    print(x(strng))\n",
    "        \n",
    "strng=input(\"Enter string\")\n",
    "prog_2(strng)"
   ]
  },
  {
   "cell_type": "code",
   "execution_count": 5,
   "id": "ac8ef4eb-a5c4-4986-bdac-7d60022dcb1a",
   "metadata": {},
   "outputs": [
    {
     "name": "stdout",
     "output_type": "stream",
     "text": [
      "[('grapes', 1000), ('mango', 99), ('oronge', 80)]\n"
     ]
    }
   ],
   "source": [
    "def prog_3(lst):\n",
    "    lst.sort(key=lambda x: x[1], reverse=True)\n",
    "    print(lst)\n",
    "        \n",
    "lst=[(\"mango\",99),(\"oronge\",80),(\"grapes\",1000)]\n",
    "prog_3(lst)"
   ]
  },
  {
   "cell_type": "code",
   "execution_count": 16,
   "id": "05d33af1-a8ef-4de2-8036-f6bc423ddebf",
   "metadata": {},
   "outputs": [
    {
     "name": "stdout",
     "output_type": "stream",
     "text": [
      "[1, 4, 9, 16, 25, 36, 49, 64, 81, 100]\n"
     ]
    }
   ],
   "source": [
    "def prog_4():\n",
    "    x=[1,2,3,4,5,6,7,8,9,10]\n",
    "    x=list(map(lambda x: x**2, x))\n",
    "    print(x)\n",
    "        \n",
    "prog_4()"
   ]
  },
  {
   "cell_type": "code",
   "execution_count": 17,
   "id": "b44b5d35-5d31-4d87-a635-8bcf991cfd69",
   "metadata": {},
   "outputs": [
    {
     "name": "stdout",
     "output_type": "stream",
     "text": [
      "[1, 8, 27, 64, 125, 216, 343, 512, 729, 1000]\n"
     ]
    }
   ],
   "source": [
    "def prog_5():\n",
    "    x=[1,2,3,4,5,6,7,8,9,10]\n",
    "    x=list(map(lambda x: x**3, x))\n",
    "    print(x)\n",
    "        \n",
    "prog_5()"
   ]
  },
  {
   "cell_type": "code",
   "execution_count": null,
   "id": "1d19c410-9606-4a0c-83d9-888f7d195b30",
   "metadata": {},
   "outputs": [],
   "source": [
    "def prog_6(x):\n",
    "    y=lambda i: f\"{i} is an even number\" if i%2==0 else f\"{i} is not an even number\"\n",
    "    print(y(x))\n",
    "x=int(input(\"Enter a number: \"))        \n",
    "prog_6(x)"
   ]
  },
  {
   "cell_type": "code",
   "execution_count": 2,
   "id": "884fec94-28a2-4282-a13a-0c7b57d0226f",
   "metadata": {},
   "outputs": [
    {
     "name": "stdout",
     "output_type": "stream",
     "text": [
      "[1, 3, 5, 7, 9]\n"
     ]
    }
   ],
   "source": [
    "def prog_7(x):\n",
    "    a=list(filter(lambda x: x%2!=0,x))\n",
    "    print(a)\n",
    "x=[1,2,3,4,5,6,7,8,9,10]       \n",
    "prog_7(x)"
   ]
  },
  {
   "cell_type": "code",
   "execution_count": 8,
   "id": "380bdca5-a099-4a31-9270-f735d511e433",
   "metadata": {},
   "outputs": [
    {
     "name": "stdout",
     "output_type": "stream",
     "text": [
      "[1, 2, 3, 4, 5, 6, 0]\n",
      "[-1, -2, -3, -4, -5]\n"
     ]
    }
   ],
   "source": [
    "def prog_8(l):\n",
    "    a=list(filter(lambda x: x>=0,l))\n",
    "    b=list(filter(lambda x: x<0,l))\n",
    "    print(a)\n",
    "    print(b)\n",
    "    \n",
    "x=[1,2,3,4,5,6,-1,-2,-3,-4,-5,0]\n",
    "prog_8(x)"
   ]
  }
 ],
 "metadata": {
  "kernelspec": {
   "display_name": "Python 3 (ipykernel)",
   "language": "python",
   "name": "python3"
  },
  "language_info": {
   "codemirror_mode": {
    "name": "ipython",
    "version": 3
   },
   "file_extension": ".py",
   "mimetype": "text/x-python",
   "name": "python",
   "nbconvert_exporter": "python",
   "pygments_lexer": "ipython3",
   "version": "3.10.8"
  }
 },
 "nbformat": 4,
 "nbformat_minor": 5
}
