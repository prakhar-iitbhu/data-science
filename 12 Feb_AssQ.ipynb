{
 "cells": [
  {
   "cell_type": "markdown",
   "id": "f885d4eb-1c1d-4d68-bd47-01e4e8406d58",
   "metadata": {},
   "source": [
    "Q1. What is an Exception In python? Write the difference between Exceptions and syntax errors."
   ]
  },
  {
   "cell_type": "markdown",
   "id": "e03be6e3-bd97-4afd-bec1-8bc9b77b856e",
   "metadata": {},
   "source": [
    "An exception is an event, which occurs during the execution of a program that disrupts the normal flow of the program's instructions. In general, when a Python script encounters a situation that it cannot cope with, it raises an exception. An exception is a Python object that represents an error.\n",
    "\n",
    "Errors are the problems in a program due to which the program will stop the execution. On the other hand, exceptions are raised when some internal events occur which changes the normal flow of the program."
   ]
  },
  {
   "cell_type": "markdown",
   "id": "eaf82d06-3d48-497e-9399-d91a426b42bc",
   "metadata": {},
   "source": [
    "Q2. What happens when an exception is not handled? Explain with an example"
   ]
  },
  {
   "cell_type": "markdown",
   "id": "0660dfaf-fbed-4dcb-ad15-d332058697cc",
   "metadata": {},
   "source": [
    "Exceptions can be caught and handled using the try-except statement, but if not handled, they will terminate the program and produce a traceback. "
   ]
  },
  {
   "cell_type": "code",
   "execution_count": 1,
   "id": "9c58503d-21e7-4def-8610-8fdac694eaf6",
   "metadata": {},
   "outputs": [
    {
     "ename": "ZeroDivisionError",
     "evalue": "division by zero",
     "output_type": "error",
     "traceback": [
      "\u001b[0;31m---------------------------------------------------------------------------\u001b[0m",
      "\u001b[0;31mZeroDivisionError\u001b[0m                         Traceback (most recent call last)",
      "Cell \u001b[0;32mIn[1], line 2\u001b[0m\n\u001b[1;32m      1\u001b[0m a\u001b[38;5;241m=\u001b[39m\u001b[38;5;241m10\u001b[39m\n\u001b[0;32m----> 2\u001b[0m \u001b[43ma\u001b[49m\u001b[38;5;241;43m/\u001b[39;49m\u001b[38;5;241;43m0\u001b[39;49m\n",
      "\u001b[0;31mZeroDivisionError\u001b[0m: division by zero"
     ]
    }
   ],
   "source": [
    "#without exception\n",
    "a=10\n",
    "a/0"
   ]
  },
  {
   "cell_type": "code",
   "execution_count": 2,
   "id": "eef846b0-10dc-4e75-aeea-6f9d324ab942",
   "metadata": {},
   "outputs": [
    {
     "name": "stdout",
     "output_type": "stream",
     "text": [
      "division by zero\n"
     ]
    }
   ],
   "source": [
    "#with exception\n",
    "try :\n",
    "    a = 10 \n",
    "    10/0\n",
    "except ZeroDivisionError as e :\n",
    "    print(e)"
   ]
  },
  {
   "cell_type": "markdown",
   "id": "2746de90-3d01-44d4-8726-9bfec00c129d",
   "metadata": {},
   "source": [
    "Q3. Which Python statements are used to catch and handle exceptions? Explain with an example"
   ]
  },
  {
   "cell_type": "markdown",
   "id": "2f7d0af5-e364-4f91-9c9f-6f9dd27fc610",
   "metadata": {},
   "source": [
    "The try and except block in Python is used to catch and handle exceptions. When syntactically correct code runs into an error, Python will throw an exception error. This exception error will crash the program if it is unhandled."
   ]
  },
  {
   "cell_type": "code",
   "execution_count": 1,
   "id": "01361962-31ca-4ef9-94f4-623d1802456a",
   "metadata": {},
   "outputs": [],
   "source": [
    "try:\n",
    "    f = open(\"tes.txt\" , 'w')\n",
    "    f.write(\"this is my msg\")\n",
    "\n",
    "except Exception as e :\n",
    "    print(\"there is some issue with my code \", e)"
   ]
  },
  {
   "cell_type": "markdown",
   "id": "8f5cdab3-d44e-4dba-b6ad-2e5165dfad46",
   "metadata": {},
   "source": [
    "Q4. Explain with an example:\n",
    "a. try and else\n",
    "b. finally\n",
    "c. raise"
   ]
  },
  {
   "cell_type": "code",
   "execution_count": 5,
   "id": "a522821b-5669-4ee0-a5b4-f59923a8e8bd",
   "metadata": {},
   "outputs": [],
   "source": [
    "# a. try and else\n",
    "#Try: This block will test the excepted error to occur\n",
    "#Else: If there is no exception then this block will be executed\n",
    "\n",
    "def divide(x, y):\n",
    "    try:\n",
    "        result = x // y\n",
    "    except ZeroDivisionError as e:\n",
    "        print(\"Sorry ! You are dividing by zero \")\n",
    "    else:\n",
    "        print(\"Yeah ! Your answer is :\", result)"
   ]
  },
  {
   "cell_type": "code",
   "execution_count": null,
   "id": "5df36919-7f67-4610-a546-405c2c04a5d9",
   "metadata": {},
   "outputs": [],
   "source": [
    "# b. finally\n",
    "# this block is always executed regardless of exception generation.\n",
    "\n",
    "def divide(x, y):\n",
    "    try:\n",
    "        result = x // y\n",
    "    except ZeroDivisionError:\n",
    "        print(\"Sorry ! You are dividing by zero \")\n",
    "    else:\n",
    "        print(\"Yeah ! Your answer is :\", result)\n",
    "    finally: \n",
    "        print('This is always executed')"
   ]
  },
  {
   "cell_type": "code",
   "execution_count": null,
   "id": "9d96b3bd-390e-444e-94cb-d5bc78f5a8b3",
   "metadata": {},
   "outputs": [],
   "source": [
    "# c. raise\n",
    "# The raise keyword is used to raise an exception. You can define what kind of error to raise, and the text to print to the user.\n",
    "\n",
    "x = -1\n",
    "if x < 0:\n",
    "    raise Exception(\"Sorry, no numbers below zero\")"
   ]
  },
  {
   "cell_type": "markdown",
   "id": "89b91e2e-b87e-496f-903f-8af9335da756",
   "metadata": {},
   "source": [
    "Q5. What are Custom Exceptions in python? Why do we need Custom Exceptions? Explain with an example"
   ]
  },
  {
   "cell_type": "markdown",
   "id": "674c7ce0-50f2-4106-b75a-319ba385930a",
   "metadata": {},
   "source": [
    "Like standard exception classes, custom exceptions are also classes. Hence, you can add functionality to the custom exception classes like: Adding attributes and properties. Adding methods e.g., log the exception, format the output, etc."
   ]
  },
  {
   "cell_type": "code",
   "execution_count": 7,
   "id": "51a0b74e-a66a-4dc7-a0e9-212c7c8ec60b",
   "metadata": {},
   "outputs": [
    {
     "name": "stdin",
     "output_type": "stream",
     "text": [
      "Enter a positive integer:  -76\n"
     ]
    },
    {
     "name": "stdout",
     "output_type": "stream",
     "text": [
      "You provided -76. Please provide positive integer values only\n"
     ]
    }
   ],
   "source": [
    "class NegativeError(Exception):\n",
    "    def __init__(self, data):\n",
    "        self.data = data\n",
    "try:\n",
    "    x = int(input(\"Enter a positive integer: \"))\n",
    "    if x < 0:\n",
    "        raise NegativeError(x)\n",
    "except NegativeError as e:\n",
    "    print(\"You provided {}. Please provide positive integer values only\".format(e))"
   ]
  },
  {
   "cell_type": "markdown",
   "id": "260bd854-fdeb-4d62-ab6d-67ca4618e96e",
   "metadata": {},
   "source": [
    "Q6. Create a custom exception class. Use this class to handle an exception."
   ]
  },
  {
   "cell_type": "code",
   "execution_count": null,
   "id": "56f0a849-a090-426e-8fcd-770b9b877f5f",
   "metadata": {},
   "outputs": [],
   "source": []
  }
 ],
 "metadata": {
  "kernelspec": {
   "display_name": "Python 3 (ipykernel)",
   "language": "python",
   "name": "python3"
  },
  "language_info": {
   "codemirror_mode": {
    "name": "ipython",
    "version": 3
   },
   "file_extension": ".py",
   "mimetype": "text/x-python",
   "name": "python",
   "nbconvert_exporter": "python",
   "pygments_lexer": "ipython3",
   "version": "3.10.8"
  }
 },
 "nbformat": 4,
 "nbformat_minor": 5
}
