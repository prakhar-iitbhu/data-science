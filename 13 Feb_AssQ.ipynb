{
 "cells": [
  {
   "cell_type": "markdown",
   "id": "5dd6d889-34cc-422a-a3b1-4444d459e22b",
   "metadata": {},
   "source": [
    "Q1. Explain why we have to use the Exception class while creating a Custom Exception.\n",
    "\n",
    "Note: Here Exception class refers to the base class for all the exceptions."
   ]
  },
  {
   "cell_type": "markdown",
   "id": "87d6ae48-cecb-47aa-83e7-b792c7b98bbc",
   "metadata": {},
   "source": [
    "We have to use the Exception class while creating a Custom Exception:\n",
    "\n",
    "1. To improve readability of your code.\n",
    "2. To enhance reusability of features.\n",
    "3. To provide custom messages/instructions to users for specific use cases."
   ]
  },
  {
   "cell_type": "code",
   "execution_count": null,
   "id": "8e85da03-3ef6-4f1c-ad26-c4d1a77abcc6",
   "metadata": {},
   "outputs": [],
   "source": []
  },
  {
   "cell_type": "markdown",
   "id": "70da1f9c-0bf1-4c4e-a817-2bcc7452feb8",
   "metadata": {},
   "source": [
    "Q2. Write a python program to print Python Exception Hierarchy."
   ]
  },
  {
   "cell_type": "code",
   "execution_count": null,
   "id": "091871fc-3650-4102-b81f-ceec60548e6a",
   "metadata": {},
   "outputs": [],
   "source": [
    "import inspect as ipt\n",
    "def tree_class(cls, ind=0):\n",
    "    print ('-'*ind, cls.__name__)\n",
    "    for i in cls.__subclasses__():\n",
    "        tree_class(i, ind+3)\n",
    "print (\"Inbuilt exceptions is: \")\n",
    "ipt.getclasstree(ipt.getmro(BaseException))\n",
    "tree_class(BaseException)"
   ]
  },
  {
   "cell_type": "markdown",
   "id": "88699d16-7db6-447a-9cf6-cb1ce775da66",
   "metadata": {},
   "source": [
    "Q3. What errors are defined in the ArithmeticError class? Explain any two with an example."
   ]
  },
  {
   "cell_type": "markdown",
   "id": "389b8f17-b6e6-4a51-bec3-de51f22c8e7c",
   "metadata": {},
   "source": [
    "The errors which are defined in the ArithmeticError class are:\n",
    "1. OverflowError\n",
    "2. ZeroDivisionError\n",
    "3. FloatingPointError"
   ]
  },
  {
   "cell_type": "code",
   "execution_count": 6,
   "id": "76e8ad9b-f5ec-4db8-a121-9d2b64c62d9d",
   "metadata": {},
   "outputs": [
    {
     "name": "stdout",
     "output_type": "stream",
     "text": [
      "This statement is raising an arithmetic exception.\n",
      " division by zero\n"
     ]
    }
   ],
   "source": [
    "try:  \n",
    "    a = 10/0  \n",
    "    print (a)\n",
    "except ArithmeticError as e:  \n",
    "        print (\"This statement is raising an arithmetic exception.\\n\", e)\n",
    "else:  \n",
    "    print (\"Success.\")"
   ]
  },
  {
   "cell_type": "code",
   "execution_count": 7,
   "id": "ce9dac7b-c614-449f-ae1f-ce6575c3a6b8",
   "metadata": {},
   "outputs": [
    {
     "name": "stdout",
     "output_type": "stream",
     "text": [
      "5.0\n",
      "25.0\n",
      "15625.0\n",
      "5.960464477539062e+16\n",
      "7.52316384526264e+83\n",
      "Overflow error happened.\n",
      " (34, 'Numerical result out of range')\n"
     ]
    }
   ],
   "source": [
    "j = 5.0\n",
    "try:\n",
    "    for i in range(1, 1000):\n",
    "        j = j**i\n",
    "        print(j)\n",
    "except OverflowError as e:\n",
    "    print(\"Overflow error happened.\\n\", e)"
   ]
  },
  {
   "cell_type": "markdown",
   "id": "9042fd12-91ef-433a-b360-9e87da41c6cf",
   "metadata": {},
   "source": [
    "Q4. Why LookupError class is used? Explain with an example KeyError and IndexError."
   ]
  },
  {
   "cell_type": "markdown",
   "id": "cf6886bb-9491-401e-ae62-021f6a4d3121",
   "metadata": {},
   "source": [
    "LookupError Exception is the Base class for errors raised when something can't be found. The base class for the exceptions that are raised when a key or index used on a mapping or sequence is invalid: IndexError, KeyError. An IndexError is raised when a sequence reference is out of range."
   ]
  },
  {
   "cell_type": "code",
   "execution_count": 12,
   "id": "78a90b83-5636-4acc-9e1a-875eab036c54",
   "metadata": {},
   "outputs": [
    {
     "name": "stdout",
     "output_type": "stream",
     "text": [
      "list index out of range\n"
     ]
    }
   ],
   "source": [
    "import sys\n",
    "try:\n",
    "    foo = ['a', 's', 'd', 'f', 'g']\n",
    "    print (foo[5])\n",
    "except IndexError as e:\n",
    "    print (e)"
   ]
  },
  {
   "cell_type": "markdown",
   "id": "78b230ab-e88d-466b-a954-99094582ea39",
   "metadata": {},
   "source": [
    "A Python KeyError exception is what is raised when you try to access a key that isn't in a dictionary."
   ]
  },
  {
   "cell_type": "code",
   "execution_count": 26,
   "id": "bc0d1c07-3d4a-477b-92a3-99a3db3381c2",
   "metadata": {},
   "outputs": [
    {
     "name": "stdout",
     "output_type": "stream",
     "text": [
      "Fharan's records doesn't exist\n"
     ]
    }
   ],
   "source": [
    "\n",
    "try:\n",
    "    subjects = {'Sree': 'Maths',\n",
    "            'Ram': 'Biology',\n",
    "            'Shyam': 'Science',\n",
    "            'Abdul': 'Hindi'}\n",
    "    print('subject of Fharan is:', subjects['Fharan'])\n",
    "except KeyError as e:\n",
    "    print(\"Fharan's records doesn't exist\")"
   ]
  },
  {
   "cell_type": "markdown",
   "id": "29b78d7a-6f36-4b1c-a263-449fccefd0b0",
   "metadata": {},
   "source": [
    "Q5. Explain ImportError. What is ModuleNotFoundError?"
   ]
  },
  {
   "cell_type": "markdown",
   "id": "51effea3-2e9c-4bd3-bc33-1387f355a8f9",
   "metadata": {},
   "source": [
    "In Python, ImportError occurs when the Python program tries to import module which does not exist in the private table.\n",
    "\n",
    "The 'module not found' error is a syntax error that appears when the static import statement cannot find the file at the declared path."
   ]
  },
  {
   "cell_type": "markdown",
   "id": "ea4f6add-12cb-4c20-bd71-e1578f224d88",
   "metadata": {},
   "source": [
    "Q6. List down some best practices for exception handling in python."
   ]
  },
  {
   "cell_type": "markdown",
   "id": "c20f46e4-1036-4a6b-8623-60798e1824fc",
   "metadata": {},
   "source": [
    "Some best practices for exception handling in python are:\n",
    "\n",
    "1. Use Exceptions for Exceptional Cases.\n",
    "2. Don't Swallow the Exception.\n",
    "3. Catch Specific Exceptions.\n",
    "4. Always Clean Up Resources in a Finally Block.\n",
    "5. Avoid Raising Generic Exceptions.\n",
    "6. Raise Custom Exceptions.\n",
    "7. Define Your Own Exception Hierarchy.\n",
    "8. Document All Exceptions Thrown by a Function."
   ]
  }
 ],
 "metadata": {
  "kernelspec": {
   "display_name": "Python 3 (ipykernel)",
   "language": "python",
   "name": "python3"
  },
  "language_info": {
   "codemirror_mode": {
    "name": "ipython",
    "version": 3
   },
   "file_extension": ".py",
   "mimetype": "text/x-python",
   "name": "python",
   "nbconvert_exporter": "python",
   "pygments_lexer": "ipython3",
   "version": "3.10.8"
  }
 },
 "nbformat": 4,
 "nbformat_minor": 5
}
