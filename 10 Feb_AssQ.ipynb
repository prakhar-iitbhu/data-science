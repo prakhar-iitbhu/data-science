{
 "cells": [
  {
   "cell_type": "markdown",
   "id": "d6bc9ff5-d3ba-482b-b165-68484ac00957",
   "metadata": {},
   "source": [
    "Q1. Which function is used to open a file? What are the different modes of opening a file? Explain each mode of file opening."
   ]
  },
  {
   "cell_type": "markdown",
   "id": "63cdce3d-d22f-4a3a-81ff-cccadde8370f",
   "metadata": {},
   "source": [
    "f = open(filename, mode)\n",
    "\n",
    "Where the following mode is supported:\n",
    "'r'       open for reading (default)\n",
    "'w'       open for writing, truncating the file first\n",
    "'x'       create a new file and open it for writing\n",
    "'a'       open for writing, appending to the end of the file if it exists\n",
    "'b'       binary mode\n",
    "'t'       text mode (default)\n",
    "'+'       open a disk file for updating (reading and writing)\n",
    "'U'       universal newline mode (deprecated)"
   ]
  },
  {
   "cell_type": "markdown",
   "id": "4cc8c8ed-11cc-4595-be1b-4fe14f11e288",
   "metadata": {},
   "source": [
    "Q2. Why close() function is used? Why is it important to close a file?"
   ]
  },
  {
   "cell_type": "markdown",
   "id": "877bbe1c-6694-4099-a937-3f1c70f85e49",
   "metadata": {},
   "source": [
    "We use the close() file python as we have limited resources that are being managed by the operating system. Hence, closing the files properly helps to protect against hard-to-debug errors like file handles running out or experiencing corrupted data.\n",
    "\n",
    "Closing a file after use is important because it frees up system resources that are being used by the file. When a file is open, the operating system allocates memory and other resources to the file, which can potentially impact the performance of the system if too many files are open at the same time."
   ]
  },
  {
   "cell_type": "markdown",
   "id": "cf7e921e-4756-47f4-9972-d835c69a3a33",
   "metadata": {},
   "source": [
    "Q3. Write a python program to create a text file. Write ‘I want to become a Data Scientist’ in that file. Then close the file. Open this file and read the content of the file."
   ]
  },
  {
   "cell_type": "code",
   "execution_count": 7,
   "id": "6fb8b1d3-063c-478e-a47b-8d3a70cd3034",
   "metadata": {},
   "outputs": [],
   "source": [
    "f= open(\"text.txt\", 'w')\n",
    "f.write(\"I want to become a Data Scientist\")\n",
    "f.close()"
   ]
  },
  {
   "cell_type": "code",
   "execution_count": 9,
   "id": "d10f5b73-3092-4c36-920c-f42aae164c97",
   "metadata": {},
   "outputs": [
    {
     "data": {
      "text/plain": [
       "'I want to become a Data Scientist'"
      ]
     },
     "execution_count": 9,
     "metadata": {},
     "output_type": "execute_result"
    }
   ],
   "source": [
    "f=open(\"text.txt\",'r')\n",
    "f.read()"
   ]
  },
  {
   "cell_type": "markdown",
   "id": "042303e9-511e-4479-ba8a-ccfa46d628f7",
   "metadata": {},
   "source": [
    "Q4. Explain the following with python code: read(), readline() and readlines()."
   ]
  },
  {
   "cell_type": "code",
   "execution_count": 4,
   "id": "b2c1af02-630b-4d37-b429-e518e4fd375a",
   "metadata": {},
   "outputs": [],
   "source": [
    "f=open(\"test.txt\", 'w')\n",
    "f.write(\"Python provides inbuilt functions for creating, writing, and reading files.\\n There are two types of files that can be handled in python, normal text files and binary files (written in binary language, 0s, and 1s).\")\n",
    "f.close()"
   ]
  },
  {
   "cell_type": "code",
   "execution_count": 5,
   "id": "5f5ae2dd-a0e4-4b21-b9cd-ecf7412d1d93",
   "metadata": {},
   "outputs": [
    {
     "data": {
      "text/plain": [
       "'Python provides inbuilt functions for creating, writing, and reading files.\\n There are two types of files that can be handled in python, normal text files and binary files (written in binary language, 0s, and 1s).'"
      ]
     },
     "execution_count": 5,
     "metadata": {},
     "output_type": "execute_result"
    }
   ],
   "source": [
    "#Read at most n characters from stream.\n",
    "#Read from underlying buffer until we have n characters or we hit EOF.\n",
    "\n",
    "f=open(\"test.txt\", 'r')\n",
    "f.read()"
   ]
  },
  {
   "cell_type": "code",
   "execution_count": 6,
   "id": "85b35270-5e21-4098-a124-46b9c106ed4f",
   "metadata": {},
   "outputs": [
    {
     "data": {
      "text/plain": [
       "'Python provides inbuilt functions for creating, writing, and reading files.\\n'"
      ]
     },
     "execution_count": 6,
     "metadata": {},
     "output_type": "execute_result"
    }
   ],
   "source": [
    "#Read until newline or EOF.\n",
    "#Returns an empty string if EOF is hit immediately.\n",
    "\n",
    "f=open(\"test.txt\", 'r')\n",
    "f.readline()"
   ]
  },
  {
   "cell_type": "code",
   "execution_count": 32,
   "id": "c1dc4835-defb-48cf-9668-f6b742ab723c",
   "metadata": {},
   "outputs": [
    {
     "data": {
      "text/plain": [
       "['Python provides inbuilt functions for creating, writing, and reading files.\\n',\n",
       " ' There are two types of files that can be handled in python, normal text files and binary files (written in binary language, 0s, and 1s).']"
      ]
     },
     "execution_count": 32,
     "metadata": {},
     "output_type": "execute_result"
    }
   ],
   "source": [
    "#Return a list of lines from the stream.\n",
    "#hint can be specified to control the number of lines read: no more lines will be read if the total size (in bytes/characters) of all lines so far exceeds hint.\n",
    "\n",
    "f=open(\"test.txt\", 'r')\n",
    "f.readlines()"
   ]
  },
  {
   "cell_type": "markdown",
   "id": "8f4a2168-67d5-4df5-bbba-6f3be824312f",
   "metadata": {},
   "source": [
    "Q5. Explain why with statement is used with open(). What is the advantage of using with statement and open() together?"
   ]
  },
  {
   "cell_type": "markdown",
   "id": "10af10e7-0767-4d49-b4ac-8a1315492f19",
   "metadata": {},
   "source": [
    "The with statement works with the open() function to open a file. Unlike open() where you have to close the file with the close() method, the with statement closes the file for you without you telling it to. \n",
    "\n",
    "Combining the with statement and the open() function in Python helps us read and write to the file without being worried about closing it."
   ]
  },
  {
   "cell_type": "markdown",
   "id": "09c93972-fa72-4249-aa12-8afd1f1d4216",
   "metadata": {},
   "source": [
    "Q6. Explain the write() and writelines() functions. Give a suitable example."
   ]
  },
  {
   "cell_type": "markdown",
   "id": "2abae291-70db-4ac6-9e97-043d5cc69138",
   "metadata": {},
   "source": [
    "write() method takes a string as an argument and writes it to the text file.\n",
    "\n",
    "writelines() method is used to write multiple strings to a file. We need to pass an iterable object like lists, tuples, etc. containing strings to the writelines() method."
   ]
  },
  {
   "cell_type": "code",
   "execution_count": 3,
   "id": "2058bf74-0d93-424e-ac35-b4d4dcfa31ca",
   "metadata": {},
   "outputs": [],
   "source": [
    "f=open(\"test.txt\",'w')\n",
    "f.write(\"This is write method\")\n",
    "f.close()"
   ]
  },
  {
   "cell_type": "code",
   "execution_count": 5,
   "id": "b965e9e5-bc15-4d8c-a63c-bb7018854ada",
   "metadata": {},
   "outputs": [
    {
     "data": {
      "text/plain": [
       "'This is write method.'"
      ]
     },
     "execution_count": 5,
     "metadata": {},
     "output_type": "execute_result"
    }
   ],
   "source": [
    "f=open(\"test.txt\",'r')\n",
    "f.read()"
   ]
  },
  {
   "cell_type": "code",
   "execution_count": 11,
   "id": "1eacf671-818f-45b0-9609-7c5cf9fdc140",
   "metadata": {},
   "outputs": [],
   "source": [
    "lst=['This ', 'is ', 'write ', 'method']\n",
    "f=open(\"test.txt\",'w')\n",
    "f.writelines(lst)\n",
    "f.close()"
   ]
  },
  {
   "cell_type": "code",
   "execution_count": 12,
   "id": "934aaedb-98b3-4a7e-a4ac-4876985f171a",
   "metadata": {},
   "outputs": [
    {
     "data": {
      "text/plain": [
       "'This is write method'"
      ]
     },
     "execution_count": 12,
     "metadata": {},
     "output_type": "execute_result"
    }
   ],
   "source": [
    "f=open(\"test.txt\",'r')\n",
    "f.read()"
   ]
  }
 ],
 "metadata": {
  "kernelspec": {
   "display_name": "Python 3 (ipykernel)",
   "language": "python",
   "name": "python3"
  },
  "language_info": {
   "codemirror_mode": {
    "name": "ipython",
    "version": 3
   },
   "file_extension": ".py",
   "mimetype": "text/x-python",
   "name": "python",
   "nbconvert_exporter": "python",
   "pygments_lexer": "ipython3",
   "version": "3.10.8"
  }
 },
 "nbformat": 4,
 "nbformat_minor": 5
}
