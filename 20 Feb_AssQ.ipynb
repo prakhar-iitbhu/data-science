{
 "cells": [
  {
   "cell_type": "markdown",
   "id": "37c987f7-fd8a-451a-90f0-cf82f72212f1",
   "metadata": {},
   "source": [
    "Q1. Explain GET and POST methods."
   ]
  },
  {
   "cell_type": "markdown",
   "id": "c1f0a40f-9f8e-42f8-ab01-925d6a7758e6",
   "metadata": {},
   "source": [
    "GET: This method is used to retrieve data from the server. e.g In an eCommerce application, there is a search button to search for an item. after entering a keyword if we noticed, the keyword you searched for gets displayed in the URL. This request is used when the data is not sensitive.\n",
    "\n",
    "POST: This method makes enables users to send data over to the server. e.g In any authentication-enabled application, the registration and login form is the best example for the post method. Whenever we enter Information and submit the data get transferred over to the POST request. And if we noticed, unlike get request there is no information will be ever displayed in the URL."
   ]
  },
  {
   "cell_type": "markdown",
   "id": "2a14f91a-9c2a-46d6-ae10-9d91b61665b8",
   "metadata": {},
   "source": [
    "Q2. Why is request used in Flask?"
   ]
  },
  {
   "cell_type": "markdown",
   "id": "f03c56cf-2847-4f82-afe9-e65ebe37d352",
   "metadata": {},
   "source": [
    "The Request, in Flask, is an object that contains all the data sent from the Client to Server. This data can be recovered using the GET/POST Methods."
   ]
  },
  {
   "cell_type": "markdown",
   "id": "0aece7a3-b783-465e-8864-7d0ba2052e5f",
   "metadata": {},
   "source": [
    "Q3. Why is redirect() used in Flask?"
   ]
  },
  {
   "cell_type": "markdown",
   "id": "505211b8-53be-45d2-94ff-0129d717c930",
   "metadata": {},
   "source": [
    "Flask redirect is defined as a function or utility in Flask which allows developers to redirect users to a specified URL and assign a specified status code. When this function is called, a response object is returned, and the redirection happens to the target location with the status code."
   ]
  },
  {
   "cell_type": "markdown",
   "id": "3ec140be-402a-4835-9a7b-7a8d04b9904d",
   "metadata": {},
   "source": [
    "Q4. What are templates in Flask? Why is the render_template() function used?"
   ]
  },
  {
   "cell_type": "markdown",
   "id": "67a4c9db-ba4d-459f-afe6-8fbf955b4cad",
   "metadata": {},
   "source": [
    "Templates are files that contain static data as well as placeholders for dynamic data. A template is rendered with specific data to produce a final document. Flask uses the Jinja template library to render templates.\n",
    "\n",
    "render_template is a Flask function from the flask.templating package. render_template is used to generate output from a template file based on the Jinja2 engine that is found in the application's templates folder."
   ]
  },
  {
   "cell_type": "markdown",
   "id": "66b6856f-fb20-4b62-9694-30875914468d",
   "metadata": {},
   "source": [
    "Q5. Create a simple API. Use Postman to test it."
   ]
  },
  {
   "cell_type": "code",
   "execution_count": null,
   "id": "46940432-5f0d-43ce-9dbf-0da6e739ff2f",
   "metadata": {},
   "outputs": [],
   "source": [
    "from flask import Flask, jsonify, request\n",
    "app = Flask(__name__)\n",
    "\n",
    "@app.route('/')\n",
    "def home():\n",
    "    if(request.method == 'GET'):\n",
    "        data = \"hello world\"\n",
    "        return jsonify({'data': data})\n",
    "\n",
    "@app.route('/home/<int:num>', methods = ['GET'])\n",
    "def disp(num):\n",
    "    return jsonify({'data': num**2})\n",
    "\n",
    "if __name__ == '__main__':\n",
    "    app.run(debug = True)\n"
   ]
  }
 ],
 "metadata": {
  "kernelspec": {
   "display_name": "Python 3 (ipykernel)",
   "language": "python",
   "name": "python3"
  },
  "language_info": {
   "codemirror_mode": {
    "name": "ipython",
    "version": 3
   },
   "file_extension": ".py",
   "mimetype": "text/x-python",
   "name": "python",
   "nbconvert_exporter": "python",
   "pygments_lexer": "ipython3",
   "version": "3.10.8"
  }
 },
 "nbformat": 4,
 "nbformat_minor": 5
}
