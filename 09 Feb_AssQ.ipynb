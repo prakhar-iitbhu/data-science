{
 "cells": [
  {
   "cell_type": "markdown",
   "id": "7b513275-38ed-4a58-89fd-8c1d6cb2f567",
   "metadata": {},
   "source": [
    "Q1. Create a vehicle class with an init method having instance variables as name_of_vehicle, max_speed and average_of_vehicle."
   ]
  },
  {
   "cell_type": "code",
   "execution_count": 11,
   "id": "ade56e94-e1e9-4d73-ac22-954cee29f27d",
   "metadata": {},
   "outputs": [],
   "source": [
    "class vehicle:\n",
    "    def __init__(self, name_of_vehicle, max_speed, average_of_vehicle):\n",
    "        self.name_of_vehicle=name_of_vehicle\n",
    "        self. max_speed=max_speed\n",
    "        self.average_of_vehicle=average_of_vehicle\n",
    "\n",
    "obj =vehicle(\"Safari\", 200, 100)"
   ]
  },
  {
   "cell_type": "markdown",
   "id": "13357db3-de7a-488a-a8f0-a122cca22329",
   "metadata": {},
   "source": [
    "Q2. Create a child class car from the vehicle class created in Que 1, which will inherit the vehicle class. Create a method named seating_capacity which takes capacity as an argument and returns the name of the vehicle and its seating capacity."
   ]
  },
  {
   "cell_type": "code",
   "execution_count": 14,
   "id": "695ab39f-bdd0-4b5b-81c8-d06f1f117c53",
   "metadata": {},
   "outputs": [
    {
     "name": "stdout",
     "output_type": "stream",
     "text": [
      "Name of the Vehicle is  Safari\n",
      "Seating capacity is  8\n"
     ]
    }
   ],
   "source": [
    "class vehicle:\n",
    "    def __init__(self, name_of_vehicle, max_speed, average_of_vehicle):\n",
    "        self.name_of_vehicle=name_of_vehicle\n",
    "        self. max_speed=max_speed\n",
    "        self.average_of_vehicle=average_of_vehicle\n",
    "\n",
    "class car(vehicle):\n",
    "    def seating_capacity(self, capacity):\n",
    "        self.capacity=capacity\n",
    "        print(\"Name of the Vehicle is \", self.name_of_vehicle)\n",
    "        print(\"Seating capacity is \", self.capacity)\n",
    "\n",
    "obj1=car(\"Safari\", 200, 100)\n",
    "obj1.seating_capacity(8)"
   ]
  },
  {
   "cell_type": "markdown",
   "id": "463e3e05-f24a-495d-bc8a-9336d6d572fe",
   "metadata": {},
   "source": [
    "Q3. What is multiple inheritance? Write a python code to demonstrate multiple inheritance."
   ]
  },
  {
   "cell_type": "code",
   "execution_count": 16,
   "id": "eb9fab86-3925-41b0-b753-815459e85b92",
   "metadata": {},
   "outputs": [
    {
     "name": "stdout",
     "output_type": "stream",
     "text": [
      "Mammals can give direct birth.\n",
      "Winged animals can flap.\n"
     ]
    }
   ],
   "source": [
    "# When a class is derived from more than one base class it is called multiple Inheritance. \n",
    "# The derived class inherits all the features of the base case.\n",
    "\n",
    "class Mammal:\n",
    "    def mammal_info(self):\n",
    "        print(\"Mammals can give direct birth.\")\n",
    "\n",
    "class WingedAnimal:\n",
    "    def winged_animal_info(self):\n",
    "        print(\"Winged animals can flap.\")\n",
    "\n",
    "class Bat(Mammal, WingedAnimal):\n",
    "    pass\n",
    "\n",
    "\n",
    "b1 = Bat()\n",
    "b1.mammal_info()\n",
    "b1.winged_animal_info()"
   ]
  },
  {
   "cell_type": "markdown",
   "id": "89fdb83f-836a-4e92-8f65-4bed1442e6e0",
   "metadata": {},
   "source": [
    "Q4. What are getter and setter in python? Create a class and create a getter and a setter method in this class."
   ]
  },
  {
   "cell_type": "code",
   "execution_count": 23,
   "id": "ea57b898-cc8d-4c49-9f6f-6fb9cf04633b",
   "metadata": {},
   "outputs": [
    {
     "data": {
      "text/plain": [
       "'Tea'"
      ]
     },
     "execution_count": 23,
     "metadata": {},
     "output_type": "execute_result"
    }
   ],
   "source": [
    "# Getter: A method that allows you to access an attribute in a given class.\n",
    "# Setter: A method that allows you to set or mutate the value of an attribute in a class.\n",
    "\n",
    "class details:\n",
    "    def __init__(self, product, price):\n",
    "        self._product=product\n",
    "        self._price=price\n",
    "\n",
    "    def get_product(self):\n",
    "        return self._product\n",
    "\n",
    "    def set_product(self, product):\n",
    "        self._product=product\n",
    "\n",
    "    def get_price(self):\n",
    "        return self._price\n",
    "\n",
    "    def set_price(self, price):\n",
    "        self._price=price\n",
    "        \n",
    "obj= details(\"Banana\", 20)\n",
    "obj.set_product(\"Tea\")\n",
    "obj.get_product()"
   ]
  },
  {
   "cell_type": "markdown",
   "id": "f5239aa5-0bdf-469b-a050-9ef4a790c926",
   "metadata": {},
   "source": [
    "Q5. What is method overriding in python? Write a python code to demonstrate method overriding."
   ]
  },
  {
   "cell_type": "markdown",
   "id": "949f0459-9ef6-4856-b8be-d0175b5f8391",
   "metadata": {},
   "source": [
    "Method overriding in Python is when you have two methods with the same name that each perform different tasks. This is an important feature of inheritance in Python. In method overriding, the child class can change its functions that are defined by its ancestral classes."
   ]
  },
  {
   "cell_type": "code",
   "execution_count": null,
   "id": "391d6538-8b7f-4ef8-adf2-147d6e337bca",
   "metadata": {},
   "outputs": [],
   "source": [
    "\n",
    "# Python program to demonstrate \n",
    "# method overriding\n",
    "  \n",
    "  \n",
    "# Defining parent class\n",
    "class Parent():\n",
    "      \n",
    "    # Constructor\n",
    "    def __init__(self):\n",
    "        self.value = \"Inside Parent\"\n",
    "          \n",
    "    # Parent's show method\n",
    "    def show(self):\n",
    "        print(self.value)\n",
    "          \n",
    "# Defining child class\n",
    "class Child(Parent):\n",
    "      \n",
    "    # Constructor\n",
    "    def __init__(self):\n",
    "        self.value = \"Inside Child\"\n",
    "          \n",
    "    # Child's show method\n",
    "    def show(self):\n",
    "        print(self.value)\n",
    "          \n",
    "          \n",
    "# Driver's code\n",
    "obj1 = Parent()\n",
    "obj2 = Child()\n",
    "  \n",
    "obj1.show()\n",
    "obj2.show()"
   ]
  }
 ],
 "metadata": {
  "kernelspec": {
   "display_name": "Python 3 (ipykernel)",
   "language": "python",
   "name": "python3"
  },
  "language_info": {
   "codemirror_mode": {
    "name": "ipython",
    "version": 3
   },
   "file_extension": ".py",
   "mimetype": "text/x-python",
   "name": "python",
   "nbconvert_exporter": "python",
   "pygments_lexer": "ipython3",
   "version": "3.10.8"
  }
 },
 "nbformat": 4,
 "nbformat_minor": 5
}
