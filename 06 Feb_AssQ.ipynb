{
 "cells": [
  {
   "cell_type": "markdown",
   "id": "39ae2475-397e-414b-807e-005b9fa5225c",
   "metadata": {},
   "source": [
    "Q1. Create a function which will take a list as an argument and return the product of all the numbers\n",
    "after creating a flat list.\n",
    "\n",
    "Use the below-given list as an argument for your function.\n",
    "\n",
    "list1 = [1,2,3,4, [44,55,66, True], False, (34,56,78,89,34), {1,2,3,3,2,1}, {1:34, \"key2\": [55, 67, 78, 89], 4: (45,\n",
    "22, 61, 34)}, [56, 'data science'], 'Machine Learning']\n",
    "\n",
    "Note: you must extract numeric keys and values of the dictionary also."
   ]
  },
  {
   "cell_type": "code",
   "execution_count": 1,
   "id": "a0625487-5cb3-41f0-b2fe-83d067caaafe",
   "metadata": {},
   "outputs": [
    {
     "data": {
      "text/plain": [
       "4134711838987085478833841242112000"
      ]
     },
     "execution_count": 1,
     "metadata": {},
     "output_type": "execute_result"
    }
   ],
   "source": [
    "from functools import  reduce\n",
    "def product(lst):\n",
    "    lst1=[]\n",
    "    for i in lst:\n",
    "        if type(i)==int:\n",
    "            lst1.append(i)\n",
    "        elif type(i)==list:\n",
    "            for j in i:\n",
    "                if type(j)==int:\n",
    "                    lst1.append(j)\n",
    "        elif type(i)==tuple:\n",
    "            for j in i:\n",
    "                if type(j)==int:\n",
    "                    lst1.append(j)\n",
    "        elif type(i)==set:\n",
    "            for j in i:\n",
    "                if type(j)==int:\n",
    "                    lst1.append(j) \n",
    "        elif type(i)==dict:\n",
    "            for j in i.keys():\n",
    "                if type(j) == int:\n",
    "                    lst1.append(j)\n",
    "            for j in i.values():\n",
    "                if type(j) == int:\n",
    "                    lst1.append(j)\n",
    "                elif type(j) == list:\n",
    "                    for k in j:\n",
    "                        lst1.append(k)\n",
    "                elif type(j) == tuple:\n",
    "                    for k in j:\n",
    "                        lst1.append(k)\n",
    "    return reduce(lambda x,y: x*y, lst1)\n",
    "\n",
    "list1 = [1,2,3,4, [44,55,66, True], False, (34,56,78,89,34), {1,2,3,3,2,1}, {1:34, \"key2\": [55, 67, 78, 89], 4: (45,\n",
    "22, 61, 34)}, [56, 'data science'], 'Machine Learning']\n",
    "product(list1)\n",
    "\n",
    "\"\"\"The given list contains a set{1,2,3,3,2,1}, and thus i am unable to extract duplicate values and thus if you are considering the answer should have include duplicate value too, then final answer should be multiplied with 6.\"\"\""
   ]
  },
  {
   "cell_type": "markdown",
   "id": "6682e655-4ede-4d12-a8e4-53a51d9d39fb",
   "metadata": {},
   "source": [
    "Q2. Write a python program for encrypting a message sent to you by your friend. The logic of encryption\n",
    "should be such that, for a the output should be z. For b, the output should be y. For c, the output should\n",
    "be x respectively. Also, the whitespace should be replaced with a dollar sign. Keep the punctuation\n",
    "marks unchanged.\n",
    "\n",
    "Input Sentence: I want to become a Data Scientist.\n",
    "\n",
    "Encrypt the above input sentence using the program you just created.\n",
    "\n",
    "Note: Convert the given input sentence into lowercase before encrypting. The final output should be\n",
    "lowercase."
   ]
  },
  {
   "cell_type": "code",
   "execution_count": 43,
   "id": "1fc9cc8e-d626-4cf2-9466-fe8367c957ff",
   "metadata": {},
   "outputs": [
    {
     "name": "stdout",
     "output_type": "stream",
     "text": [
      "r$dzmg$gl$yvxlnv$z$wzgz$hxrvmgrhg.\n"
     ]
    }
   ],
   "source": [
    "def encrypt(inpt):\n",
    "    x=inpt.lower()\n",
    "    y=[]\n",
    "    for i in x:\n",
    "        if ord(i)>=97 and ord(i)<=122:\n",
    "            for j in range(97,123):\n",
    "                    if ord(i)==j:\n",
    "                        y.append(chr(97+(122-j)))\n",
    "                        break\n",
    "        elif ord(i)==32:\n",
    "            y.append(chr(36))\n",
    "        else:\n",
    "            y.append(i)\n",
    "    z=\"\"\n",
    "    for i in y:\n",
    "        z+=i\n",
    "    print(z)\n",
    "\n",
    "inpt=\"I want to become a Data Scientist.\"    \n",
    "encrypt(inpt)"
   ]
  },
  {
   "cell_type": "code",
   "execution_count": 44,
   "id": "43c4e4e7-7da7-4e5b-a2fa-307f69a19429",
   "metadata": {},
   "outputs": [
    {
     "name": "stdout",
     "output_type": "stream",
     "text": [
      "1\n",
      "2\n",
      "3\n"
     ]
    }
   ],
   "source": [
    "st={1,2,3,3,2,1}\n",
    "for i in st:\n",
    "    print(i)"
   ]
  },
  {
   "cell_type": "code",
   "execution_count": null,
   "id": "ba4d7ee0-bb5b-4990-9761-8e216501d504",
   "metadata": {},
   "outputs": [],
   "source": []
  }
 ],
 "metadata": {
  "kernelspec": {
   "display_name": "Python 3 (ipykernel)",
   "language": "python",
   "name": "python3"
  },
  "language_info": {
   "codemirror_mode": {
    "name": "ipython",
    "version": 3
   },
   "file_extension": ".py",
   "mimetype": "text/x-python",
   "name": "python",
   "nbconvert_exporter": "python",
   "pygments_lexer": "ipython3",
   "version": "3.10.8"
  }
 },
 "nbformat": 4,
 "nbformat_minor": 5
}
