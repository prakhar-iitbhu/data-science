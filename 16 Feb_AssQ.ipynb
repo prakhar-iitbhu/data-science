{
 "cells": [
  {
   "cell_type": "markdown",
   "id": "d7e604b7-607d-4e87-acc2-254d6eec3c92",
   "metadata": {},
   "source": [
    "Q1. What is a database? Differentiate between SQL and NoSQL databases."
   ]
  },
  {
   "cell_type": "markdown",
   "id": "b515b0f0-028d-4025-9425-00780c1d30be",
   "metadata": {},
   "source": [
    "A database is an organized collection of structured information, or data, typically stored electronically in a computer system. A database is usually controlled by a database management system (DBMS).\n",
    "\n",
    "Difference between SQL and NoSQL databases:\n",
    "\n",
    "1. SQL is RELATIONAL DATABASE MANAGEMENT SYSTEM (RDBMS) while NoSQL is Non-relational or distributed database system.\n",
    "2. SQL databases have fixed or static or predefined schema while NoSQL have a dynamic schema.\n",
    "3. SQL databases are not suited for hierarchical data storage while NoSQL databases are best suited for hierarchical data storage.\n",
    "4. SQL databases are best suited for complex queries while NoSQL databases are not so good for complex queries\n",
    "5. SQL is Vertically Scalable while NoSQL is Horizontally scalable\n",
    "6. SQL follows ACID property while NoSQL follows CAP(consistency, availability, partition tolerance)"
   ]
  },
  {
   "cell_type": "markdown",
   "id": "b1e854b2-b70d-4601-8e3d-353bd63ae7b6",
   "metadata": {},
   "source": [
    "Q2. What is DDL? Explain why CREATE, DROP, ALTER, and TRUNCATE are used with an example."
   ]
  },
  {
   "cell_type": "markdown",
   "id": "1baba80b-b6fa-4621-a1db-a5bc8f8f2b33",
   "metadata": {},
   "source": [
    "Data definition language (DDL) describes the portion of SQL that creates, alters, and deletes database objects. These database objects include schemas, tables, views, sequences, catalogs, indexes, and aliases.\n",
    "\n",
    "The create keyword is used to create tables, databases, views, procedures, indexes, functions, etc.\n",
    "example: CREATE DATABASE database_name;\n",
    "\n",
    "The Drop command in SQL not only deletes a table but also deletes other entities such as database, column, index, constraint, etc.\n",
    "example: DROP TABLE table_name;\n",
    "\n",
    "The ALTER command in SQL is used to make changes to a table, view, or the entire database. We can add, modify, and drop constraints, columns, and indexes using the ALTER command in SQL.\n",
    "example: ALTER TABLE table_name ADD column_name datatype;\n",
    "\n",
    "The truncate query is used to remove the record from the tables. In some situations, the truncate query cannot change data records.\n",
    "example: TRUNCATE TABLE table_name;"
   ]
  },
  {
   "cell_type": "markdown",
   "id": "3292e38f-5f4b-4513-bfde-345e9a4de0df",
   "metadata": {},
   "source": [
    "Q3. What is DML? Explain INSERT, UPDATE, and DELETE with an example."
   ]
  },
  {
   "cell_type": "markdown",
   "id": "e95a2a77-78e0-48c2-a4cb-507dcb3a4dbf",
   "metadata": {},
   "source": [
    "Data Manipulation Language (DML) commands in SQL manage data records stored within the database tables. It does not deal with changes to database objects and their structure. The commonly known DML commands are INSERT, UPDATE, and DELETE.\n",
    "\n",
    "The INSERT statement will only accept the data that follows all the attributes of a column in a table.\n",
    "example: INSERT INTO table_name (column1, column2, column3, ...) VALUES (value1, value2, value3, ...);\n",
    "\n",
    "The UPDATE statement is used to modify the existing records in a table.\n",
    "example: UPDATE table_name SET column1 = value1, column2 = value2, ... WHERE condition;\n",
    "\n",
    "The DELETE command is used to delete existing records in a table.\n",
    "example: DELETE FROM table_name WHERE condition;"
   ]
  },
  {
   "cell_type": "markdown",
   "id": "6853a073-ba69-4102-a317-2d9b1a3d618d",
   "metadata": {},
   "source": [
    "Q4. What is DQL? Explain SELECT with an example."
   ]
  },
  {
   "cell_type": "markdown",
   "id": "3372bdf0-794b-4f5e-bac7-c0163902cfc1",
   "metadata": {},
   "source": [
    "The full form of DQL is Data Query Language. DQL is a part of the grouping involved in SQL (Structures Query Language) sub-languages.\n",
    "\n",
    "The SELECT statement is used to select data from a database. The data returned is stored in a result table, called the result-set. \n",
    "example: SELECT column1, column2, ... FROM table_name;"
   ]
  },
  {
   "cell_type": "markdown",
   "id": "403baa7e-db05-4df2-92d4-c191a5a1586e",
   "metadata": {},
   "source": [
    "Q5. Explain Primary Key and Foreign Key."
   ]
  },
  {
   "cell_type": "markdown",
   "id": "780a0914-406b-494c-8d21-2f00152e7955",
   "metadata": {},
   "source": [
    "A primary key is used to ensure data in the specific column is unique. A foreign key is a column or group of columns in a relational database table that provides a link between data in two tables."
   ]
  },
  {
   "cell_type": "markdown",
   "id": "32add4dc-c9b5-4390-8d23-ce0f6a363909",
   "metadata": {},
   "source": [
    "Q6. Write a python code to connect MySQL to python. Explain the cursor() and execute() method."
   ]
  },
  {
   "cell_type": "markdown",
   "id": "040081f8-d118-4ed2-95e7-aed47ef5a7d6",
   "metadata": {},
   "source": [
    "import mysql.connector\n",
    "\n",
    "conn = mysql.connector.connect(\n",
    "    host='localhost', user='root', password='password'\n",
    ")\n",
    "cursor = conn.cursor()\n",
    "\n",
    "Cursors are created by the connection.cursor() method: they are bound to the connection for the entire lifetime and all the commands are executed in the context of the database session wrapped by the connection.\n",
    "\n",
    "execute() Method: This method executes the given database operation (query or command). The parameters found in the tuple or dictionary params are bound to the variables in the operation."
   ]
  },
  {
   "cell_type": "markdown",
   "id": "63e2456a-d301-4bfe-9b87-9b6e24ce6efe",
   "metadata": {},
   "source": [
    "Q7. Give the order of execution of SQL clauses in an SQL query."
   ]
  },
  {
   "cell_type": "markdown",
   "id": "df904228-c813-4b9a-8c98-f451ed07de5f",
   "metadata": {},
   "source": [
    "1. FROM and JOINs\n",
    "2. WHERE\n",
    "3. GROUP BY\n",
    "4. HAVING\n",
    "5. SELECT\n",
    "6. DISTINCT\n",
    "7. ORDER BY\n",
    "8. LIMIT / OFFSET"
   ]
  }
 ],
 "metadata": {
  "kernelspec": {
   "display_name": "Python 3 (ipykernel)",
   "language": "python",
   "name": "python3"
  },
  "language_info": {
   "codemirror_mode": {
    "name": "ipython",
    "version": 3
   },
   "file_extension": ".py",
   "mimetype": "text/x-python",
   "name": "python",
   "nbconvert_exporter": "python",
   "pygments_lexer": "ipython3",
   "version": "3.10.8"
  }
 },
 "nbformat": 4,
 "nbformat_minor": 5
}
