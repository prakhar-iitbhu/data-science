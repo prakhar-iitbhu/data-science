{
 "cells": [
  {
   "cell_type": "markdown",
   "id": "3dcd2720-493f-49d6-9f2d-008dd37ac5f4",
   "metadata": {
    "tags": []
   },
   "source": [
    "Q1. What are the characteristics of the tuples? Is tuple immutable?"
   ]
  },
  {
   "cell_type": "markdown",
   "id": "6d59eb4d-8189-4a02-9a5f-64c7d9649b7a",
   "metadata": {},
   "source": [
    "Answer:\n",
    "    \n",
    "Tuple in Python refers to a collection that is ordered. The elements cannot be changed once it is assigned. Therefore, these are immutable after being assigned. A tuple collects the same or different collections of objects. Thus, the round brackets () separate each element in a tuple.\n",
    "    \n",
    "Tuples have the given characteristics:\n",
    "\n",
    "1. They are indexed\n",
    "2. Tuples are ordered\n",
    "3. These are immutable\n",
    "4. They can contain duplicate items"
   ]
  },
  {
   "cell_type": "markdown",
   "id": "f0629b76-e306-4548-a0cc-35614bdcb350",
   "metadata": {},
   "source": [
    "Q2. What are the two tuple methods in python? Give an example of each method. Give a reason why\n",
    "tuples have only two in-built methods as compared to Lists."
   ]
  },
  {
   "cell_type": "markdown",
   "id": "7c9200e3-bacc-45d3-a207-1c9ee7e2dca9",
   "metadata": {},
   "source": [
    "Answer:\n",
    "    \n",
    "In Python ,methods that add items or remove items are not available with tuple. Only the following two methods are available.\n",
    "\n",
    "1. count()\n",
    "2. index()\n",
    "\n",
    "Example:\n",
    "\n",
    "        my_tuple = ('p', 'r', 'a', 'k', 'h','a', 'r',)\n",
    "\n",
    "        print(my_tuple.count('r'))  # prints 2\n",
    "        print(my_tuple.index('k'))  # prints 3\n",
    "\n",
    "The primary difference between tuples and lists is that tuples are immutable as opposed to lists which are mutable. Therefore, tuples have only two in-built methods as compared to Lists. "
   ]
  },
  {
   "cell_type": "markdown",
   "id": "55a3825d-681f-4e4b-a4ed-4482563b65f3",
   "metadata": {},
   "source": [
    "Q3. Which collection datatypes in python do not allow duplicate items? Write a code using a set to remove\n",
    "duplicates from the given list.\n",
    "List = [1, 1, 1, 2, 1, 3, 1, 4, 2, 1, 2, 2, 2, 3, 2, 4, 3, 1, 3, 2, 3, 3, 3, 4, 4, 1, 4, 2, 4, 3, 4, 4]"
   ]
  },
  {
   "cell_type": "markdown",
   "id": "3178e063-dad1-4068-a88a-7e8035f1b1c9",
   "metadata": {},
   "source": [
    "Answer:\n",
    "\n",
    "Sets in Python are unordered collections of unique elements. By their nature, duplicates aren't allowed. Therefore, converting a list into a set removes the duplicates.\n",
    "\n",
    "Example:\n",
    "        \n",
    "        my_list = [1, 1, 1, 2, 1, 3, 1, 4, 2, 1, 2, 2, 2, 3, 2, 4, 3, 1, 3, 2, 3, 3, 3, 4, 4, 1, 4, 2, 4, 3, 4]\n",
    "        print (\"The list is: \" + str(my_list)) \n",
    "\n",
    "        my_list = list(set(my_list)) # remove duplicated from list\n",
    "\n",
    "        print (\"The list after removing duplicates: \" + str(my_list)) # remove duplicated from list\n",
    "        \n",
    "Output:\n",
    "\n",
    "        The list is: [1, 1, 1, 2, 1, 3, 1, 4, 2, 1, 2, 2, 2, 3, 2, 4, 3, 1, 3, 2, 3, 3, 3, 4, 4, 1, 4, 2, 4, 3, 4]\n",
    "        The list after removing duplicates: [1, 2, 3, 4]  "
   ]
  },
  {
   "cell_type": "markdown",
   "id": "8c3edf3b-756d-4559-8379-33ffcd6170cc",
   "metadata": {},
   "source": [
    "Q4. Explain the difference between the union() and update() methods for a set. Give an example of\n",
    "each method."
   ]
  },
  {
   "cell_type": "markdown",
   "id": "4d948baa-67a1-4239-b6da-d816d75bd5dc",
   "metadata": {},
   "source": [
    "Answer:\n",
    "\n",
    "The main difference between the union() method and the update() method is that union() returns a new set that contains all the elements from both sets, while update() modifies one of the sets to include all the elements from both sets.\n",
    "\n",
    "Exmaple for union:\n",
    "\n",
    "    A = {1,2,3,4,5}\n",
    "    B = {4,5,6,7,8,9}\n",
    "    S = A.union(B)\n",
    "\n",
    "    print('A : ',A)\n",
    "    print('B : ',B)\n",
    "    print('A Union B : ',S)\n",
    "\n",
    "Exmaple for union:\n",
    "\n",
    "    A = {1,2,3,4,5}\n",
    "    B = {4,5,6,7,8,9}\n",
    "    A.update(B)\n",
    "\n",
    "    print('A : ',A)\n",
    "    print('B : ',B)\n",
    "    print('A Union B : ',A)\n"
   ]
  },
  {
   "cell_type": "markdown",
   "id": "05bcaa38-6abd-47ea-9a6e-a4b22e3068a7",
   "metadata": {},
   "source": [
    "Q5. What is a dictionary? Give an example. Also, state whether a dictionary is ordered or unordered."
   ]
  },
  {
   "cell_type": "markdown",
   "id": "f9f90902-567d-4cb1-b1a0-374235ecc413",
   "metadata": {},
   "source": [
    "Answer:\n",
    "\n",
    "The dictionary is an unordered collection that contains key:value pairs separated by commas inside curly brackets. Dictionaries are optimized to retrieve values when the key is known.\n",
    "\n",
    "Example:\n",
    "\n",
    "    romanNums = {'I':1, 'II':2, 'III':3, 'IV':4, 'V':5} # roman key, int value\n",
    "    \n",
    "A dictionary is a collection which is ordered, changeable and do not allow duplicates. As of Python version 3.7, dictionaries are ordered. In Python 3.6 and earlier, dictionaries are unordered."
   ]
  },
  {
   "cell_type": "markdown",
   "id": "8ae8ac8b-d5e4-4f42-bcbb-0533b4488a5e",
   "metadata": {},
   "source": [
    "Q6. Can we create a nested dictionary? If so, please give an example by creating a simple one-level\n",
    "nested dictionary."
   ]
  },
  {
   "cell_type": "markdown",
   "id": "26c36db6-817f-484e-8972-2f32ad07d445",
   "metadata": {},
   "source": [
    "Answer:\n",
    "\n",
    "A Nested dictionary can be created by placing the comma-separated dictionaries enclosed within braces.\n",
    "\n",
    "Example:\n",
    "\n",
    "    people = {1: {'name': 'John', 'age': '27', 'gender': 'Male'}, 2: {'name': 'Marie', 'age': '22', 'gender': 'Female'}}\n",
    "\n",
    "    print(people)"
   ]
  },
  {
   "cell_type": "markdown",
   "id": "7be07241-4d1f-4b4b-b98e-72fdb73778df",
   "metadata": {},
   "source": [
    "Q7. Using setdefault() method, create key named topics in the given dictionary and also add the value of\n",
    "the key as this list ['Python', 'Machine Learning’, 'Deep Learning']\n",
    "dict1 = {'language' : 'Python', 'course': 'Data Science Masters'}"
   ]
  },
  {
   "cell_type": "markdown",
   "id": "2be28185-1386-4700-acd0-a83b66bfa557",
   "metadata": {},
   "source": [
    "Answer: \n",
    "\n",
    "    dict1 = {'language' : 'Python', 'course': 'Data Science Masters'}\n",
    "    print(\"Dictionary before using setdefault():\", dict1)\n",
    "\n",
    "    dict1.setdefault('topics', ['Python', 'Machine Learning', 'Deep Learning'])\n",
    "    print(\"Dictionary after using setdefault():\", dict1)\n",
    "\n",
    "output:\n",
    "\n",
    "    Dictionary before using setdefault(): {'language': 'Python', 'course': 'Data Science Masters'}\n",
    "    Dictionary after using setdefault(): {'language': 'Python', 'course': 'Data Science Masters', 'topics': ['Python', 'Machine Learning', 'Deep Learning']}"
   ]
  },
  {
   "cell_type": "markdown",
   "id": "38f5f7cd-b7fb-4ab5-af8d-a37d57a1772b",
   "metadata": {},
   "source": [
    "Q8. What are the three view objects in dictionaries? Use the three in-built methods in python to display\n",
    "these three view objects for the given dictionary.\n",
    "dict1 = {'Sport': 'Cricket' , 'Teams': ['India', 'Australia', 'England', 'South Africa', 'Sri Lanka', 'New Zealand']}"
   ]
  },
  {
   "cell_type": "markdown",
   "id": "38a643aa-a031-4995-8130-54772d285807",
   "metadata": {},
   "source": [
    "Answer:\n",
    "\n",
    "The main view objects of dictionary in python are keys, values and items. They provide a non-constant view of the dictionary’s entries. Keys holds all the keys of the dictionary, the values objects holds all the values, whereas the items holds the key-value pairs.\n",
    "\n",
    "    dict1 = {'Sport': 'Cricket' , 'Teams': ['India', 'Australia', 'England', 'South Africa', 'Sri Lanka', 'New Zealand']}\n",
    "    \n",
    "    print(\"Keys of the dictionary : \", dict1.keys())\n",
    "    print(\"Values of the dictionary : \", dict1.values())\n",
    "    print(\"Items of the dictionary : \", dict1.items())"
   ]
  }
 ],
 "metadata": {
  "kernelspec": {
   "display_name": "Python 3 (ipykernel)",
   "language": "python",
   "name": "python3"
  },
  "language_info": {
   "codemirror_mode": {
    "name": "ipython",
    "version": 3
   },
   "file_extension": ".py",
   "mimetype": "text/x-python",
   "name": "python",
   "nbconvert_exporter": "python",
   "pygments_lexer": "ipython3",
   "version": "3.10.8"
  }
 },
 "nbformat": 4,
 "nbformat_minor": 5
}
