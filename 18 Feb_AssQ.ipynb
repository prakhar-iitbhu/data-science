{
 "cells": [
  {
   "cell_type": "markdown",
   "id": "5d25c7d9-8e8e-4ef7-b350-18e18cee40dd",
   "metadata": {},
   "source": [
    "Q1. What is an API? Give an example, where an API is used in real life."
   ]
  },
  {
   "cell_type": "markdown",
   "id": "e0a0e4b3-9ed7-4153-b056-e535a56477f9",
   "metadata": {},
   "source": [
    "An application programming interface is a way for two or more computer programs to communicate with each other. It is a type of software interface, offering a service to other pieces of software. A document or standard that describes how to build or use such a connection or interface is called an API specification.\n",
    "\n",
    "Here are a few common examples of APIs: Sharing flight information between airlines and travel sites. Using Google Maps in a rideshare app. Building chatbots in a messaging service."
   ]
  },
  {
   "cell_type": "markdown",
   "id": "714642d6-b899-430c-ba95-2e9866784b78",
   "metadata": {},
   "source": [
    "Q2. Give advantages and disadvantages of using API."
   ]
  },
  {
   "cell_type": "markdown",
   "id": "ecee60c8-4118-4c04-9c67-38abe4464659",
   "metadata": {},
   "source": [
    "Advantages:\n",
    "\n",
    "1. Increased Interoperability: API solutions enable different software systems to communicate with each other, regardless of their programming language or platform. This enhances the interoperability between systems, allowing for the exchange of data and functionality.\n",
    "2. Improved Efficiency: API driven infrastructures enable developers to reuse code and functionality from existing software systems, saving time and reducing the amount of code that needs to be written from scratch.\n",
    "3. Better User Experience: APIs can enable third-party developers to create applications that integrate with existing software systems, providing a better user experience and increased functionality.\n",
    "4. Increased Flexibility: APIs provide developers with greater flexibility, enabling them to choose the best programming languages and frameworks for their needs.\n",
    "5. New Revenue Streams: APIs can enable companies to create new revenue streams by providing third-party developers with access to their software systems.\n",
    "\n",
    "Disadvantages:\n",
    "\n",
    "1. Security Concerns: API infrastructures can be vulnerable to security breaches, such as SQL injection attacks and cross-site scripting (XSS) attacks, making it crucial to implement security measures to protect against these threats.\n",
    "2. Complexity: APIs can be complex, requiring a significant amount of development effort to implement and maintain.\n",
    "3. Compatibility Issues: APIs can have compatibility issues between different versions of the same software system or between different systems, which can lead to errors and system failures.\n",
    "4. Dependency on Third-Party Developers: APIs rely on third-party developers to create applications that integrate with the software system. This can create dependencies that are outside of the control of the company that owns the software system.\n",
    "5. Governance and Management: APIs require proper governance and management to ensure they are being used correctly and consistently across different applications and systems."
   ]
  },
  {
   "cell_type": "markdown",
   "id": "cb1ed124-ff75-48e1-9cde-ee38651fd277",
   "metadata": {},
   "source": [
    "Q3. What is a Web API? Differentiate between API and Web API."
   ]
  },
  {
   "cell_type": "markdown",
   "id": "99a0dfa0-a888-43f6-811a-c7f28e328b5d",
   "metadata": {},
   "source": [
    "Web API as the name suggests, is an API over the web which can be accessed using HTTP protocol. It is a concept and not a technology. We can build Web API using different technologies such as Java, .NET etc. For example, Twitter's REST APIs provide programmatic access to read and write data using which we can integrate twitter's capabilities into our own application.\n",
    "\n",
    "APIs have become so popular that some people use the terms “API” and “Web API” interchangeably, but they're not the same thing! A web API lets you interact with a web server through HTTP requests, while a REST API lets you interact with any kind of server over HTTP"
   ]
  },
  {
   "cell_type": "markdown",
   "id": "c3995b8e-8a2a-4eca-9852-60f3cb53c4c2",
   "metadata": {},
   "source": [
    "Q4. Explain REST and SOAP Architecture. Mention shortcomings of SOAP."
   ]
  },
  {
   "cell_type": "markdown",
   "id": "56a875b1-8810-4488-8bb3-a7d4334d4feb",
   "metadata": {},
   "source": [
    "SOAP and REST are two internet data exchange mechanisms. For example, imagine that your internal accounts system shares data with your customer's accounting system to automate invoicing tasks. The two applications share data by using an API that defines communication rules. SOAP and REST are two different approaches to API design. The SOAP approach is highly structured and uses XML data format. REST is more flexible and allows applications to exchange data in multiple formats"
   ]
  },
  {
   "cell_type": "markdown",
   "id": "e4a149c6-85f4-482e-9806-8962b90b41f6",
   "metadata": {},
   "source": [
    "Q5. Differentiate between REST and SOAP."
   ]
  },
  {
   "cell_type": "markdown",
   "id": "492a0846-9c8f-4d59-9b7d-c64a84987afb",
   "metadata": {},
   "source": [
    "\n",
    "SOAP is a protocol, while REST is an architectural style. This creates significant differences in how SOAP APIs and REST APIs behave.\n",
    "\n",
    "1. Design\n",
    "The SOAP API exposes functions or operations, while REST APIs are data-driven. For example, consider an application with employee data that other applications can manipulate. The application's SOAP API could expose a function called CreateEmployee. To create an employee, you would specify the function name in your SOAP message when sending a request.\n",
    "\n",
    "However, the application's REST API could expose a URL called /employees, and a POST request to that URL would create a new employee record.\n",
    "\n",
    "2. Flexibility\n",
    "SOAP APIs are rigid and only allow XML messaging between applications. The application server also has to maintain the state of each client. This means it has to remember all previous requests when processing a new request.\n",
    "\n",
    "REST is more flexible and allows applications to transfer data as plain text, HTML, XML, and JSON. REST is also stateless, so the REST API treats every new request independently of previous requests.\n",
    "\n",
    "3. Performance\n",
    "SOAP messages are larger and more complex, which makes them slower to transmit and process. This can increase page load times.\n",
    "\n",
    "REST is faster and more efficient than SOAP due to the smaller message sizes of REST. REST responses are also cacheable, so the server can store frequently accessed data in a cache for even shorter page load times.\n",
    "\n",
    "4. Scalability\n",
    "The SOAP protocol requires applications to store the state between requests, which increases bandwidth and memory requirements. As a result, it makes applications expensive and challenging to scale.\n",
    "\n",
    "Unlike SOAP, REST permits stateless and layered architecture, which makes it more scalable. For example, the application server can pass the request to other servers or allow an intermediary (like a content delivery network) to handle it.\n",
    "\n",
    "5. Security\n",
    "SOAP requires an additional layer of WS-Security to work with HTTPS. WS-Security uses additional header content to ensure only the designated process in the specified server reads the SOAP message content. This adds communication overheads and negatively impacts performance.\n",
    "\n",
    "REST supports HTTPS without additional overheads.\n",
    "\n",
    "6. Reliability\n",
    "SOAP has error handling logic built into it, and it provides more reliability. On the other hand, REST requires you to try again in case of communication failures, and it’s less reliable."
   ]
  }
 ],
 "metadata": {
  "kernelspec": {
   "display_name": "Python 3 (ipykernel)",
   "language": "python",
   "name": "python3"
  },
  "language_info": {
   "codemirror_mode": {
    "name": "ipython",
    "version": 3
   },
   "file_extension": ".py",
   "mimetype": "text/x-python",
   "name": "python",
   "nbconvert_exporter": "python",
   "pygments_lexer": "ipython3",
   "version": "3.10.8"
  }
 },
 "nbformat": 4,
 "nbformat_minor": 5
}
