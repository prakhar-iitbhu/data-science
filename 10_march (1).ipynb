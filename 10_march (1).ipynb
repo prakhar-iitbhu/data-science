{
 "cells": [
  {
   "cell_type": "markdown",
   "id": "3ed660e4-20e1-4072-8e21-e6852dfa217e",
   "metadata": {},
   "source": [
    "# Q1: What is Estimation Statistics? Explain point estimate and interval estimate."
   ]
  },
  {
   "cell_type": "markdown",
   "id": "61231bf0-aadf-4ecf-a8c3-bd2e6251b22f",
   "metadata": {},
   "source": [
    "**Estimation statistics** is a branch of statistics that involves using data from a sample to make inferences about the population. The goal of estimation is to provide information about population parameters, such as the mean or proportion, based on a sample of data.\n",
    "\n",
    "There are two main types of estimates: point estimates and interval estimates.\n",
    "\n",
    "1. **Point Estimate:** A point estimate is a single value that is used to estimate a population parameter. It is obtained by using a sample statistic, such as the sample mean or sample proportion, to estimate the corresponding population parameter. \n",
    "\n",
    "2. **Interval Estimate:** An interval estimate, also called a confidence interval, is a range of values that is likely to contain the true population parameter with a certain level of confidence. It is obtained by using a sample statistic, such as the sample mean or sample proportion, to calculate an interval of values that is likely to contain the true population parameter."
   ]
  },
  {
   "cell_type": "markdown",
   "id": "a4f4f042-bad7-4afa-8251-820e36aaa35c",
   "metadata": {},
   "source": [
    "# Q2: Write a Python function to estimate the population mean using a sample mean and standard deviation."
   ]
  },
  {
   "cell_type": "code",
   "execution_count": 1,
   "id": "50b6a9f8-5f82-4ec2-b39e-e15eb018b642",
   "metadata": {},
   "outputs": [],
   "source": [
    "import math\n",
    "\n",
    "def population_mean(sample_mean, sample_std, sample_size):\n",
    "    std_error = sample_std / math.sqrt(sample_size)\n",
    "    z_value = 1.96 # assume a 95% confidence level and use the corresponding z-value\n",
    "    margin_of_error = z_value * std_error \n",
    "    lower_bound = sample_mean - margin_of_error \n",
    "    upper_bound = sample_mean + margin_of_error \n",
    "    return ((lower_bound + upper_bound) / 2)"
   ]
  },
  {
   "cell_type": "code",
   "execution_count": 2,
   "id": "20ef9818-9260-4fde-b3cc-64d349e80af6",
   "metadata": {},
   "outputs": [
    {
     "name": "stdout",
     "output_type": "stream",
     "text": [
      "Population mean: 2.0\n"
     ]
    }
   ],
   "source": [
    "result = population_mean(2,5,20000)\n",
    "\n",
    "print(f\"Population mean: {result}\")"
   ]
  },
  {
   "cell_type": "markdown",
   "id": "c945ef80-c30c-44d4-87bb-5cbe2ae5efdc",
   "metadata": {},
   "source": [
    "# Q3: What is Hypothesis testing? Why is it used? State the importance of Hypothesis testing."
   ]
  },
  {
   "cell_type": "markdown",
   "id": "f54ce4a2-c847-48e4-bccf-014543563cd7",
   "metadata": {},
   "source": [
    "**Hypothesis testing** is a statistical method used to make decisions or draw conclusions about a population based on a sample of data. It involves comparing a hypothesis or claim about a population parameter (such as a mean or proportion) with the data from a sample, in order to determine if the hypothesis is likely to be true.\n",
    "\n",
    "**Hypothesis testing is used** to test the validity of a theory or claim. \n",
    ">For example, in medical research, hypothesis testing can be used to determine if a new drug is effective in treating a disease by comparing its effects to a placebo. In business, hypothesis testing can be used to evaluate whether a new marketing strategy is effective in increasing sales.\n",
    "\n",
    "**The importance of hypothesis testing** lies in its ability to provide evidence for or against a theory or claim, and to help researchers make informed decisions based on data. It allows researchers to determine if an observed difference between groups or variables is statistically significant or simply due to chance, and to quantify the level of uncertainty in their findings. This can help researchers to draw conclusions that are based on evidence and minimize the risk of drawing incorrect or unsupported conclusions."
   ]
  },
  {
   "cell_type": "markdown",
   "id": "32eceff2-01c4-4333-a8a4-06c6d7975051",
   "metadata": {},
   "source": [
    "# Q4: Create a hypothesis that states whether the average weight of male college students is greater than the average weight of female college students."
   ]
  },
  {
   "cell_type": "markdown",
   "id": "fd6930b8-6e0f-4ca7-b670-10611f7ee5dc",
   "metadata": {},
   "source": [
    "The null hypothesis would be:\n",
    ">H0: The average weight of male college students is not greater than the average weight of female college students.\n",
    "\n",
    "The alternative hypothesis would be:\n",
    ">H1: The average weight of male college students is greater than the average weight of female college students."
   ]
  },
  {
   "cell_type": "markdown",
   "id": "bc5b53e3-3b6b-4ea8-b5f5-09e76146e9af",
   "metadata": {},
   "source": [
    "# Q5: Write a Python script to conduct a hypothesis test on the difference between two population means, given a sample from each population."
   ]
  },
  {
   "cell_type": "code",
   "execution_count": 3,
   "id": "b6b9a452-e33c-4f80-bd38-89ade553d693",
   "metadata": {},
   "outputs": [
    {
     "name": "stdout",
     "output_type": "stream",
     "text": [
      "t-statistic:  -6.261130944898279\n",
      "p-value:  2.326973062923823e-09\n",
      "Reject null hypothesis\n"
     ]
    }
   ],
   "source": [
    "import numpy as np\n",
    "from scipy.stats import ttest_ind\n",
    "\n",
    "# create two random samples\n",
    "sample1 = np.random.normal(10, 2, 100)\n",
    "sample2 = np.random.normal(12, 2, 100)\n",
    "\n",
    "# conduct t-test\n",
    "t_stat, p_val = ttest_ind(sample1, sample2)\n",
    "\n",
    "# print results\n",
    "print(\"t-statistic: \", t_stat)\n",
    "print(\"p-value: \", p_val)\n",
    "\n",
    "# check if p-value is significant at 5% level\n",
    "if p_val < 0.05:\n",
    "    print(\"Reject null hypothesis\")\n",
    "else:\n",
    "    print(\"Fail to reject null hypothesis\")"
   ]
  },
  {
   "cell_type": "markdown",
   "id": "42f58f2e-ae9f-4fbb-aee1-ab4a5219f3de",
   "metadata": {},
   "source": [
    "# Q6: What is a null and alternative hypothesis? Give some examples."
   ]
  },
  {
   "cell_type": "markdown",
   "id": "8d639cfa-54e1-4811-bfd4-7b7aeedd18e5",
   "metadata": {},
   "source": [
    "**The null hypothesis (H0)** states that there is no significant difference between two populations or variables. It is often the default or conventional position and is tested against the alternative hypothesis. In other words, it is the claim that researchers aim to reject or fail to reject based on the evidence from the data.\n",
    "\n",
    "**The alternative hypothesis (H1)** is the complement of the null hypothesis and states that there is a significant difference between two populations or variables. It represents the claim that researchers seek to support or prove based on the evidence from the data.\n",
    "\n",
    "**Examples:**\n",
    "1. Null hypothesis: The average IQ scores of two groups of students are equal.<br>Alternative hypothesis: The average IQ score of one group of students is significantly different from the other group.\n",
    "\n",
    "2. Null hypothesis: The new drug has no effect on curing a disease.<br>Alternative hypothesis: The new drug is significantly more effective in curing the disease than the current drug."
   ]
  },
  {
   "cell_type": "markdown",
   "id": "f4216006-d3c2-4089-b13d-cb2fe78c31e7",
   "metadata": {},
   "source": [
    "# Q7: Write down the steps involved in hypothesis testing."
   ]
  },
  {
   "cell_type": "markdown",
   "id": "eb517382-b4fd-4ceb-b61c-03f846c25075",
   "metadata": {},
   "source": [
    "The general steps involved in hypothesis testing are:\n",
    "\n",
    "1. **State the null and alternative hypotheses:** Identify the research question and define the null and alternative hypotheses that represent the possible outcomes.\n",
    "2. **Determine the test statistic:** Choose an appropriate statistical test (e.g., t-test, ANOVA, chi-square) based on the research question and data type, and calculate the test statistic using the sample data.\n",
    "3. **Set the significance level:** Determine the level of significance (alpha) to use for the test. This is the probability of rejecting the null hypothesis when it is true and is typically set at 0.05.\n",
    "4. **Calculate the p-value:** Calculate the probability of observing the test statistic or a more extreme value under the null hypothesis.\n",
    "5. **Make a decision:** Compare the p-value to the significance level and make a decision whether to reject or fail to reject the null hypothesis. If the p-value is less than or equal to the significance level, reject the null hypothesis; otherwise, fail to reject the null hypothesis."
   ]
  },
  {
   "cell_type": "markdown",
   "id": "26022a7b-ebdc-430f-bb00-a1116076dc5e",
   "metadata": {},
   "source": [
    "# Q8: Define p-value and explain its significance in hypothesis testing."
   ]
  },
  {
   "cell_type": "markdown",
   "id": "ede057e6-abd5-4499-93fd-97077f2de310",
   "metadata": {},
   "source": [
    "The p-value in hypothesis testing is the probability of observing a test statistic or a more extreme value, given that the null hypothesis is true. In other words, it is the probability of obtaining the observed data or more extreme data if the null hypothesis is true.<br>\n",
    "The p-value provides a measure of the strength of evidence against the null hypothesis. A small p-value indicates strong evidence against the null hypothesis, while a large p-value indicates weak evidence against the null hypothesis.\n",
    "\n",
    "The p-value is a key component of hypothesis testing because it helps researchers make decisions about the null hypothesis. If the p-value is small (e.g., less than or equal to the significance level), it suggests that the observed data is unlikely to have occurred by chance under the null hypothesis, and the null hypothesis is rejected. If the p-value is large (e.g., greater than the significance level), it suggests that the observed data is consistent with the null hypothesis, and the null hypothesis is not rejected."
   ]
  },
  {
   "cell_type": "markdown",
   "id": "d3b4e902-eb41-4c7c-be1a-04221f0a0e76",
   "metadata": {},
   "source": [
    "# Q9: Generate a Student's t-distribution plot using Python's matplotlib library, with the degrees of freedom parameter set to 10."
   ]
  },
  {
   "cell_type": "code",
   "execution_count": 4,
   "id": "20a86e80-f631-4005-b983-4d72588a12fc",
   "metadata": {},
   "outputs": [
    {
     "data": {
      "text/plain": [
       "(array([7.99021230e-04, 1.27843397e-03, 3.19608492e-03, 1.02274717e-02,\n",
       "        3.35588917e-02, 7.36697574e-02, 1.75944475e-01, 3.18809471e-01,\n",
       "        3.73622327e-01, 3.17850645e-01, 1.73067998e-01, 7.46285829e-02,\n",
       "        2.84451558e-02, 8.30982079e-03, 3.67549766e-03, 4.79412738e-04,\n",
       "        1.59804246e-04, 1.59804246e-04, 0.00000000e+00, 1.59804246e-04]),\n",
       " array([-5.31647566, -4.69071006, -4.06494446, -3.43917886, -2.81341326,\n",
       "        -2.18764766, -1.56188206, -0.93611646, -0.31035086,  0.31541474,\n",
       "         0.94118034,  1.56694594,  2.19271154,  2.81847715,  3.44424275,\n",
       "         4.07000835,  4.69577395,  5.32153955,  5.94730515,  6.57307075,\n",
       "         7.19883635]),\n",
       " <BarContainer object of 20 artists>)"
      ]
     },
     "execution_count": 4,
     "metadata": {},
     "output_type": "execute_result"
    },
    {
     "data": {
      "image/png": "[encoded data removed]",
      "text/plain": [
       "<Figure size 640x480 with 1 Axes>"
      ]
     },
     "metadata": {},
     "output_type": "display_data"
    }
   ],
   "source": [
    "from scipy.stats import t\n",
    "import matplotlib.pyplot as plt\n",
    "\n",
    "#generate t distribution with sample size 10000\n",
    "x = t.rvs(df=10, size=10000)\n",
    "\n",
    "plt.hist(x, density=True, edgecolor='black', bins=20)"
   ]
  },
  {
   "cell_type": "markdown",
   "id": "8dbbd24a-4c56-4935-82d7-f4432353ebe2",
   "metadata": {},
   "source": [
    "# Q10: Write a Python program to calculate the two-sample t-test for independent samples, given two random samples of equal size and a null hypothesis that the population means are equal."
   ]
  },
  {
   "cell_type": "code",
   "execution_count": 5,
   "id": "a7ebc5ae-cfdc-42a2-854d-1e4521f72ec2",
   "metadata": {},
   "outputs": [
    {
     "name": "stdout",
     "output_type": "stream",
     "text": [
      "t-test statistic: -6.267678797029391\n",
      "p-value: 2.2468059642562978e-09\n",
      "Reject the null hypothesis\n"
     ]
    }
   ],
   "source": [
    "import numpy as np\n",
    "from scipy.stats import ttest_ind\n",
    "\n",
    "sample1 = np.random.normal(10, 2, 100)\n",
    "sample2 = np.random.normal(12, 2, 100)\n",
    "\n",
    "#calculate the t-test statistic and p-value\n",
    "t_statistic, p_value = ttest_ind(sample1, sample2)\n",
    "\n",
    "print(\"t-test statistic:\", t_statistic)\n",
    "print(\"p-value:\", p_value)\n",
    "\n",
    "#compare the p-value to the significance level\n",
    "alpha = 0.05\n",
    "if p_value < alpha:\n",
    "    print(\"Reject the null hypothesis\")\n",
    "else:\n",
    "    print(\"Fail to reject the null hypothesis\")\n"
   ]
  },
  {
   "cell_type": "markdown",
   "id": "d4fe55f2-982b-4453-a8a3-d87439bc1200",
   "metadata": {},
   "source": [
    "# Q11: What is Student’s t distribution? When to use the t-Distribution."
   ]
  },
  {
   "cell_type": "markdown",
   "id": "3c431877-65a4-45a2-ac12-ff9afd6531d2",
   "metadata": {},
   "source": [
    "**Student's t distribution** is a probability distribution that is used in hypothesis testing when the sample size is small and the population standard deviation is unknown.<br>\n",
    "It is similar to the standard normal distribution (z-distribution), but has heavier tails, which means it has more probability in the tails and less in the center compared to the standard normal distribution. The shape of the t-distribution depends on the sample size, with smaller sample sizes resulting in a more spread-out distribution.\n",
    "\n",
    "3**The t-distribution is used** in situations where the population standard deviation is unknown and must be estimated from the sample data. <br>It is also used when the sample size is small (typically less than 30) and the population is normally distributed. The t-distribution allows for greater uncertainty in the estimate of the population standard deviation due to the smaller sample size."
   ]
  },
  {
   "cell_type": "markdown",
   "id": "b53f8b9a-fd1b-4e45-9cdd-7547eda7be70",
   "metadata": {},
   "source": [
    "# Question No. 12:\n",
    "What is t-statistic? State the formula for t-statistic.\n",
    "\n",
    "## Answer:\n",
    "**The t-statistic** is a measure of how many standard errors the sample mean is from the hypothesized population mean, under the assumption that the population variance is unknown and must be estimated from the sample data. It is used in hypothesis testing to determine whether the difference between the sample mean and the hypothesized population mean is statistically significant.\n",
    "\n",
    ">The formula for the t-statistic is:<br>t = (x̄ - μ) / (s / √n)\n",
    "\n",
    ">where:<br>x̄ is the sample mean<br>μ is the hypothesized population mean<br>s is the sample standard deviation<br>n is the sample size<br>√n is the square root of the sample size"
   ]
  },
  {
   "cell_type": "markdown",
   "id": "ed123147-af13-41ac-b29b-ab743e32307b",
   "metadata": {},
   "source": [
    "# Q13: A coffee shop owner wants to estimate the average daily revenue for their shop. They take a random sample of 50 days and find the sample mean revenue to be 500 dollars with a standard deviation of 50 dollars. Estimate the population mean revenue with a 95% confidence interval."
   ]
  },
  {
   "cell_type": "markdown",
   "id": "4dfea0de-90bc-4afc-a03d-c7485f4e7085",
   "metadata": {},
   "source": [
    "To estimate the population mean revenue with a 95% confidence interval, we can use the following formula:<br>\n",
    ">Confidence Interval = sample mean ± margin of error\n",
    "\n",
    "where the margin of error is given by:<br>\n",
    ">Margin of Error = critical value * standard error\n",
    "\n",
    "The standard error is the standard deviation of the sample divided by the square root of the sample size:<br>\n",
    ">Standard Error = standard deviation / sqrt(sample size)\n",
    "\n",
    "Substituting the values given in the problem statement, we get:<br>\n",
    ">Standard Error = 50 / sqrt(50) = 7.07<br>Margin of Error = 1.96 * 7.07 = 13.85\n",
    "\n",
    "Therefore, the 95% confidence interval for the population mean revenue is:<br>\n",
    ">500 ± 13.85, or (486.15, 513.85)\n",
    "\n",
    "We can be 95% confident that the true population mean revenue falls within this interval."
   ]
  },
  {
   "cell_type": "markdown",
   "id": "bd5f8fb6-85d2-46a0-8c70-c6e55b38f8f9",
   "metadata": {},
   "source": [
    "# Q14: A researcher hypothesizes that a new drug will decrease blood pressure by 10 mmHg. They conduct a clinical trial with 100 patients and find that the sample mean decrease in blood pressure is 8 mmHg with a standard deviation of 3 mmHg. Test the hypothesis with a significance level of 0.05."
   ]
  },
  {
   "cell_type": "markdown",
   "id": "2559c4ae-4503-4268-87ab-b104ebdffac3",
   "metadata": {},
   "source": [
    "The following values are given in the question:<br>\n",
    ">Population Mean = 10<br>Sample Size = n = 100<br>Sample Mean = 8<br>Standard Deviation = 3<br>Significance Level = 0.05<br>Confidence Interval = 0.95\n",
    "\n",
    "My null and alternate hypothesis are as follows:<br>\n",
    ">Null Hypothesis = H0 => Population Mean = 10<br>Alternate Hypothesis = H1 => Population Mean != 10\n",
    "\n",
    "From utilizing z-table i obgtained values for z-score:<br>\n",
    ">z-score = ± 1.96\n",
    "\n",
    "Then I utilized the follwing z-test formula:<br>\n",
    "![image.png](attachment:3472cca5-7cf5-4a93-8a76-f61e52b02ad9.png)<br>\n",
    "\n",
    "I got the following value:\n",
    ">-0.66\n",
    "\n",
    "**As -0.66 lies outside the region ± 1.96, that means it lies in the rejection region.<br> So my final conclusion was:**<br>\n",
    ">**Reject the null hypothesis**"
   ]
  },
  {
   "cell_type": "markdown",
   "id": "77065304-6882-40ec-9767-9214ade6e040",
   "metadata": {},
   "source": [
    "# Q15: An electronics company produces a certain type of product with a mean weight of 5 pounds and a standard deviation of 0.5 pounds. A random sample of 25 products is taken, and the sample mean weight is found to be 4.8 pounds. Test the hypothesis that the true mean weight of the products is less than 5 pounds with a significance level of 0.01."
   ]
  },
  {
   "cell_type": "markdown",
   "id": "61af56fd-5f23-423a-aede-304fe6c5fe3e",
   "metadata": {},
   "source": [
    "The following values are given in the question:<br>\n",
    ">Population Mean = 5<br>Sample Size = n = 25<br>Sample Mean = 4.8<br>Standard Deviation = 0.5<br>Significance Level = 0.01<br>Confidence Interval = 0.99\n",
    "\n",
    "My null and alternate hypothesis are as follows:<br>\n",
    ">Null Hypothesis = H0 => Population Mean = 5<br>Alternate Hypothesis = H1 => Population Mean < 5\n",
    "\n",
    "Then I utilized the follwing z-test formula:<br>\n",
    "![image.png](attachment:933582da-dce5-4c91-bbb3-4908e7d3cb62.png)<br>\n",
    "\n",
    "I got the following value:\n",
    ">-2\n",
    "\n",
    "From utilizing z-table i obgtained values for z-score of -2:<br>\n",
    ">z-score = 0.02275\n",
    "\n",
    "Which also becomes my p-value:<br>\n",
    ">p-value = 0.02275\n",
    "\n",
    "Then i checked whether p-value < significance value<br>\n",
    ">0.02775 < 0.01<br>**False**\n",
    "\n",
    "So my final conclusion was:<br>\n",
    ">**Failed to reject null hypothesis**"
   ]
  },
  {
   "cell_type": "markdown",
   "id": "6dc4d2db-290b-43c2-95ce-c72745021978",
   "metadata": {},
   "source": [
    "# Q16: Two groups of students are given different study materials to prepare for a test. The first group (n1 = 30) has a mean score of 80 with a standard deviation of 10, and the second group (n2 = 40) has a mean score of 75 with a standard deviation of 8. Test the hypothesis that the population means for the twogroups are equal with a significance level of 0.01."
   ]
  },
  {
   "cell_type": "markdown",
   "id": "08eff8f0-cebe-41f8-820d-a027481bbb3b",
   "metadata": {},
   "source": [
    "My null and alternate hypothesis are as follows:<br>\n",
    ">Null Hypothesis = H0 => Population Mean of Group 1 = Population Mean of Group 2<br>Alternate Hypothesis = H1 => Population Mean of Group 1 != Population Mean of Group 2\n",
    "\n",
    "Then I utilized the follwing two sample T-test formula:<br>\n",
    "![image.png](attachment:9668704d-2035-4884-8714-cf40bfb26940.png)\n",
    "\n",
    "I got the value of t as:\n",
    "> t = 2.37\n",
    "\n",
    "Then I utilized t-table to look for the value of t for the following parameters:<br>\n",
    "> Degrees of Freedom = 68<br>Significance Value = 0.01\n",
    "\n",
    "I got the following value of t fromt the table:<br>\n",
    "> t = ± 2.638\n",
    "\n",
    "**Since 2.37 lies in the region ±2.638 so, the final conclusion was:**<br>\n",
    ">**Failed to reject null hypothesis**<br>\n",
    ">**Population mean for two groups are equal**"
   ]
  },
  {
   "cell_type": "markdown",
   "id": "17d47ea1-60e7-49e7-bc1b-1a9af3c9da83",
   "metadata": {},
   "source": [
    "# Q17: A marketing company wants to estimate the average number of ads watched by viewers during a TV program. They take a random sample of 50 viewers and find that the sample mean is 4 with a standard deviation of 1.5. Estimate the population mean with a 99% confidence interval."
   ]
  },
  {
   "cell_type": "markdown",
   "id": "36fdf72b-19d8-4ee2-a9a6-1e31b0267768",
   "metadata": {},
   "source": [
    "To estimate the population mean with a 99% confidence interval, we can use the following formula:<br>\n",
    ">CI = X̄ ± z*(σ/√n)\n",
    "\n",
    "Where:<br>\n",
    ">X̄ = sample mean (4)<br>z = z-score corresponding to the confidence level (99%)<br>σ = population standard deviation (1.5)<br>n = sample size (50)<br>\n",
    "\n",
    "To find the z-score, we can use a standard normal distribution table. For a 99% confidence level, the z-score is<br>\n",
    ">z-score = 2.576.\n",
    "\n",
    "Plugging in the values, we get:\n",
    ">CI = 4 ± 2.576*(1.5/√50)<br>CI = 4 ± 0.665\n",
    "\n",
    "Therefore, the 99% confidence interval for the population mean of the number of ads watched by viewers during a TV program is (3.335, 4.665). We are 99% confident that the true population mean falls within this interval."
   ]
  }
 ],
 "metadata": {
  "kernelspec": {
   "display_name": "Python 3 (ipykernel)",
   "language": "python",
   "name": "python3"
  },
  "language_info": {
   "codemirror_mode": {
    "name": "ipython",
    "version": 3
   },
   "file_extension": ".py",
   "mimetype": "text/x-python",
   "name": "python",
   "nbconvert_exporter": "python",
   "pygments_lexer": "ipython3",
   "version": "3.10.8"
  }
 },
 "nbformat": 4,
 "nbformat_minor": 5
}
