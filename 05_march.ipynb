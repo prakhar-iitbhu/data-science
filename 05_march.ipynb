{
 "cells": [
  {
   "cell_type": "markdown",
   "id": "df94d214-5709-4a09-a244-eb7e419cd9a1",
   "metadata": {},
   "source": [
    "Q1. How can you create a Bokeh plot using Python code?"
   ]
  },
  {
   "cell_type": "markdown",
   "id": "b35be500-2f8b-4768-9efa-71e25326b460",
   "metadata": {},
   "source": [
    "Bokeh is a Python library for creating interactive visualizations in web browsers. Here are the basic steps for creating a Bokeh plot using Python code:\n",
    "\n",
    "Import the necessary Bokeh modules: bokeh.plotting and bokeh.io.\n",
    "Define the data you want to plot. This can be done using a Pandas DataFrame or a Python list, for example.\n",
    "Create a figure object using the figure() function from bokeh.plotting. This function takes various arguments to customize the plot, such as the plot width and height, x and y axis labels, etc.\n",
    "Add the desired glyphs (markers, lines, etc.) to the plot using one of the glyph methods such as circle(), line(), or rect() from the figure object. These methods take the data and the properties of the glyph as arguments.\n",
    "Add any desired interactive features to the plot such as tooltips, hover effects, and legends.\n",
    "Call the show() function from bokeh.io to display the plot in a web browser."
   ]
  },
  {
   "cell_type": "code",
   "execution_count": 1,
   "id": "df0508cf-8940-4415-8d05-7c89567a3f9e",
   "metadata": {},
   "outputs": [],
   "source": [
    "import bokeh.plotting as bp\n",
    "import bokeh.io as bi\n",
    "import pandas as pd\n",
    "\n",
    "# Define some data to plot\n",
    "x = [1, 2, 3, 4, 5]\n",
    "y = [1, 4, 9, 16, 25]\n",
    "\n",
    "# Create a figure object\n",
    "fig = bp.figure(title='My Plot', x_axis_label='X', y_axis_label='Y')\n",
    "\n",
    "# Add a circle glyph to the plot\n",
    "fig.circle(x, y, size=10, color='navy', alpha=0.5)\n",
    "\n",
    "# Display the plot\n",
    "bi.show(fig)\n"
   ]
  },
  {
   "cell_type": "markdown",
   "id": "3a9d6383-4d3c-4697-9ede-18713c8c371c",
   "metadata": {},
   "source": [
    "Q2. What are glyphs in Bokeh, and how can you add them to a Bokeh plot? Explain with an example."
   ]
  },
  {
   "cell_type": "markdown",
   "id": "82ea6d5c-da3a-466a-a689-62f7eb260013",
   "metadata": {},
   "source": [
    "Glyphs in Bokeh are the visual building blocks used to create plots. Glyphs represent the different shapes and markers used to display data points, such as circles, squares, lines, etc. Each glyph is defined by a set of properties, such as position, size, color, and transparency, which are used to customize its appearance.\n",
    "\n",
    "To add glyphs to a Bokeh plot, you need to create a figure object using the figure() function from bokeh.plotting, and then call one of the glyph methods such as circle(), line(), or rect() from the figure object. These methods take the data and the properties of the glyph as arguments."
   ]
  },
  {
   "cell_type": "code",
   "execution_count": null,
   "id": "7ae0fe37-60b5-435e-813e-a058e687876d",
   "metadata": {},
   "outputs": [],
   "source": [
    "import bokeh.plotting as bp\n",
    "import bokeh.io as bi\n",
    "import pandas as pd\n",
    "\n",
    "# Load the iris dataset from Bokeh\n",
    "from bokeh.sampledata.iris import flowers as iris_data\n",
    "\n",
    "# Create a figure object\n",
    "fig = bp.figure(title='Iris Scatter Plot', x_axis_label='Petal Length',\n",
    "                y_axis_label='Petal Width')\n",
    "\n",
    "# Add a circle glyph to the plot\n",
    "fig.circle(x=iris_data[\"petal_length\"], y=iris_data[\"petal_width\"],\n",
    "           size=10, color='blue', alpha=0.5)\n",
    "\n",
    "# Display the plot\n",
    "bi.show(fig)\n"
   ]
  },
  {
   "cell_type": "markdown",
   "id": "05992e0f-63f3-484b-8b7d-8bd1cea8d7bc",
   "metadata": {},
   "source": [
    "Q3. How can you customize the appearance of a Bokeh plot, including the axes, title, and legend?"
   ]
  },
  {
   "cell_type": "markdown",
   "id": "ba57ebcc-94b8-4ffe-806c-7c4652fc23a4",
   "metadata": {},
   "source": [
    "Bokeh provides a wide range of options to customize the appearance of a plot. Here are some of the ways to customize the appearance of a Bokeh plot:\n",
    "\n",
    "1. Title and Axis Labels: You can add a title and axis labels to your plot using the title, x_axis_label, and y_axis_label attributes of the figure object."
   ]
  },
  {
   "cell_type": "code",
   "execution_count": null,
   "id": "1d634c7e-cd0d-437d-9da1-30a2639bc0c4",
   "metadata": {},
   "outputs": [],
   "source": [
    "fig = bp.figure(title='My Plot', x_axis_label='X Axis', y_axis_label='Y Axis')"
   ]
  },
  {
   "cell_type": "markdown",
   "id": "2380bf8c-47a5-42c4-8324-6b612a527b92",
   "metadata": {},
   "source": [
    "2. Axis Ticks and Labels: You can customize the axis ticks and labels using the major_label_text_font_size, axis_label_text_font_size, and major_tick_line_color attributes of the Axis class."
   ]
  },
  {
   "cell_type": "code",
   "execution_count": null,
   "id": "3f923ffc-bc1a-4e9d-b9cf-b1bd6eb50467",
   "metadata": {},
   "outputs": [],
   "source": [
    "fig.xaxis.major_label_text_font_size = '14pt'\n",
    "fig.yaxis.major_label_text_font_size = '14pt'\n",
    "fig.xaxis.axis_label_text_font_size = '16pt'\n",
    "fig.yaxis.axis_label_text_font_size = '16pt'\n",
    "fig.xaxis.major_tick_line_color = 'red'\n",
    "fig.yaxis.major_tick_line_color = 'red'"
   ]
  },
  {
   "cell_type": "markdown",
   "id": "d5ef1c8b-f460-4333-9584-0a089fc447ca",
   "metadata": {},
   "source": [
    "3. Legend: You can add a legend to your plot using the legend attribute of the glyph methods. You can customize the location and title of the legend using the location and title attributes."
   ]
  },
  {
   "cell_type": "code",
   "execution_count": null,
   "id": "7507567a-b827-48cb-b1e9-6fbe89336d44",
   "metadata": {},
   "outputs": [],
   "source": [
    "fig.circle(x='x', y='y1', size=10, color='blue', legend_label='Series 1')\n",
    "fig.line(x='x', y='y2', line_width=2, color='red', legend_label='Series 2')\n",
    "fig.legend.location = 'top_left'\n",
    "fig.legend.title = 'Legend Title'"
   ]
  },
  {
   "cell_type": "code",
   "execution_count": null,
   "id": "d200857b-57d2-4ca0-9483-e383d0446f6c",
   "metadata": {},
   "outputs": [],
   "source": []
  },
  {
   "cell_type": "code",
   "execution_count": null,
   "id": "6b5b2bce-0e44-4534-b5bc-cdacbf8851c0",
   "metadata": {},
   "outputs": [],
   "source": []
  },
  {
   "cell_type": "markdown",
   "id": "5e3b78b6-347d-4190-867a-0c5d029881c5",
   "metadata": {},
   "source": [
    "Q4. What is a Bokeh server, and how can you use it to create interactive plots that can be updated in real time?"
   ]
  },
  {
   "cell_type": "code",
   "execution_count": null,
   "id": "af19330f-f587-429c-a30f-ce613cb0bcfb",
   "metadata": {},
   "outputs": [],
   "source": []
  },
  {
   "cell_type": "markdown",
   "id": "e15473fe-e9c4-4f99-b41d-964d16e8e117",
   "metadata": {},
   "source": [
    "Q5. How can you embed a Bokeh plot into a web page or dashboard using Flask or Django?"
   ]
  },
  {
   "cell_type": "code",
   "execution_count": null,
   "id": "2bfc17ff-8e47-40c7-87f8-7455d83d98fd",
   "metadata": {},
   "outputs": [],
   "source": []
  }
 ],
 "metadata": {
  "kernelspec": {
   "display_name": "Python 3 (ipykernel)",
   "language": "python",
   "name": "python3"
  },
  "language_info": {
   "codemirror_mode": {
    "name": "ipython",
    "version": 3
   },
   "file_extension": ".py",
   "mimetype": "text/x-python",
   "name": "python",
   "nbconvert_exporter": "python",
   "pygments_lexer": "ipython3",
   "version": "3.10.8"
  }
 },
 "nbformat": 4,
 "nbformat_minor": 5
}
