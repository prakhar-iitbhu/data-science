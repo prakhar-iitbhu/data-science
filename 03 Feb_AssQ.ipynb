{
 "cells": [
  {
   "cell_type": "markdown",
   "id": "0e73b849-3225-4219-882c-b87e3b9162d0",
   "metadata": {},
   "source": [
    "Q1. Which keyword is used to create a function? Create a function to return a list of odd numbers in the\n",
    "range of 1 to 25."
   ]
  },
  {
   "cell_type": "markdown",
   "id": "8f9eba55-5bec-4903-9ea8-a424e554c247",
   "metadata": {},
   "source": [
    "Answer:\n",
    "\n",
    "The def keyword is used to create, (or define) a function.\n",
    "\n",
    "Program:\n",
    "\n",
    "def odd_num():\n",
    "    num=25\n",
    "    odd=[]\n",
    "    while num>0:\n",
    "        if num%2!=0:\n",
    "            odd.append(num)\n",
    "        num-=1\n",
    "    return odd\n",
    "\n",
    "odd_num()\n",
    "\n",
    "Output:\n",
    "\n",
    "[25, 23, 21, 19, 17, 15, 13, 11, 9, 7, 5, 3, 1]"
   ]
  },
  {
   "cell_type": "markdown",
   "id": "265e93ed-cb05-4639-bdeb-b83431e63672",
   "metadata": {},
   "source": [
    "Q2. Why *args and **kwargs is used in some functions? Create a function each for *args and **kwargs to\n",
    "demonstrate their use."
   ]
  },
  {
   "cell_type": "markdown",
   "id": "ab772791-9bc2-4e99-ada4-1104ef52ff98",
   "metadata": {},
   "source": [
    "Answer:\n",
    "\n",
    "In Python, we can pass a variable number of arguments to a function using special symbols. There are two special symbols:\n",
    "\n",
    "*args (Non Keyword Arguments)\n",
    "**kwargs (Keyword Arguments)\n",
    "We use *args and **kwargs as an argument when we are unsure about the number of arguments to pass in the functions.\n",
    "\n",
    "Example:\n",
    "\n",
    "def add(*args):\n",
    "    x=sum(args)\n",
    "    print(\"numbers: \", args)\n",
    "    print(\"sum: \",x)\n",
    "add(1,2)\n",
    "\n",
    "Output:\n",
    "\n",
    "numbers:  (1, 2)\n",
    "sum:  3\n",
    "\n",
    "def add(**kwargs):\n",
    "    print(kwargs)\n",
    "add(Prakhar=1, Bajpai=2)\n",
    "\n",
    "Output:\n",
    "\n",
    "{'Prakhar': 1, 'Bajpai': 2}"
   ]
  },
  {
   "cell_type": "markdown",
   "id": "ffc238e2-a376-48f3-a0b6-72cc36cce696",
   "metadata": {},
   "source": [
    "Q3. What is an iterator in python? Name the method used to initialise the iterator object and the method\n",
    "used for iteration. Use these methods to print the first five elements of the given list [2, 4, 6, 8, 10, 12, 14, 16,\n",
    "18, 20]."
   ]
  },
  {
   "cell_type": "markdown",
   "id": "5baba19e-dfd4-409a-a172-55b36a1fb784",
   "metadata": {},
   "source": [
    "Answer:\n",
    "\n",
    "In Python, an iterator is an object that allows you to iterate over collections of data, such as lists, tuples, dictionaries, and sets.\n",
    "\n",
    "The Python iterators object is initialized using the iter() method. It uses the next() method for iteration.\n",
    "\n",
    "\n",
    "Program:\n",
    "\n",
    "lst= [2, 4, 6, 8, 10, 12, 14, 16, 18, 20]\n",
    "lst_itr=iter(lst)\n",
    "for i in range(0,5):\n",
    "    print(next(lst_itr))\n",
    "    \n",
    "Output:\n",
    "\n",
    "2\n",
    "4\n",
    "6\n",
    "8\n",
    "10"
   ]
  },
  {
   "cell_type": "markdown",
   "id": "49e6dc9f-58c3-4149-a894-b58a10d8cb89",
   "metadata": {},
   "source": [
    "Q4. What is a generator function in python? Why yield keyword is used? Give an example of a generator\n",
    "function."
   ]
  },
  {
   "cell_type": "markdown",
   "id": "5d02892d-d221-4720-a679-52910512a128",
   "metadata": {},
   "source": [
    "Answer:\n",
    "\n",
    "A Python generator function allows you to declare a function that behaves like an iterator, providing a faster and easier way to create iterators.\n",
    "\n",
    "The advantages of using yield keywords instead of return are that the values returned by yield statement are stored as local variables states, which allows control over memory overhead allocation.\n",
    "\n",
    "Example:\n",
    "\n",
    "def test(x,y):\n",
    "    yield x+y\n",
    "    \n",
    "x=test(1,2)\n",
    "print(\"sum: \",next(x))"
   ]
  },
  {
   "cell_type": "markdown",
   "id": "1c44b469-85c3-4178-b8ad-c9471d2d2651",
   "metadata": {},
   "source": [
    "Q5. Create a generator function for prime numbers less than 1000. Use the next() method to print the\n",
    "first 20 prime numbers."
   ]
  },
  {
   "cell_type": "markdown",
   "id": "75246768-328d-4457-9fb3-bb4ce604b418",
   "metadata": {},
   "source": [
    "Answer:\n",
    "\n",
    "def prime():\n",
    "    for z in range(2,1000):\n",
    "        y=0\n",
    "        for i in range(1,z+1):\n",
    "            if z%i==0:\n",
    "                y+=1\n",
    "        if y==2:\n",
    "            yield(z)\n",
    "z=prime()\n",
    "for i in range(0,20):\n",
    "    print(next(z))\n",
    "    \n",
    "    \n",
    "Output:\n",
    "\n",
    "2\n",
    "3\n",
    "5\n",
    "7\n",
    "11\n",
    "13\n",
    "17\n",
    "19\n",
    "23\n",
    "29\n",
    "31\n",
    "37\n",
    "41\n",
    "43\n",
    "47\n",
    "53\n",
    "59\n",
    "61\n",
    "67\n",
    "71"
   ]
  }
 ],
 "metadata": {
  "kernelspec": {
   "display_name": "Python 3 (ipykernel)",
   "language": "python",
   "name": "python3"
  },
  "language_info": {
   "codemirror_mode": {
    "name": "ipython",
    "version": 3
   },
   "file_extension": ".py",
   "mimetype": "text/x-python",
   "name": "python",
   "nbconvert_exporter": "python",
   "pygments_lexer": "ipython3",
   "version": "3.10.8"
  }
 },
 "nbformat": 4,
 "nbformat_minor": 5
}
