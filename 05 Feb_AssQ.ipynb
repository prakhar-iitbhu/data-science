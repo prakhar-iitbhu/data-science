{
 "cells": [
  {
   "cell_type": "markdown",
   "id": "4d9dae6e-005b-4c7a-8d82-3f4b52b40f70",
   "metadata": {},
   "source": [
    "Q1. Explain Class and Object with respect to Object-Oriented Programming. Give a suitable example."
   ]
  },
  {
   "cell_type": "markdown",
   "id": "e49bc9b4-0fe8-43cc-97b1-518516d24946",
   "metadata": {},
   "source": [
    "Answer:\n",
    "\n",
    "Classes are user-defined data types that act as the blueprint for individual objects, attributes and methods. Objects are instances of a class created with specifically defined data. Objects can correspond to real-world objects or an abstract entity.\n",
    "\n",
    "Example:\n",
    "\n",
    "class Student:\n",
    "    name = \"\"\n",
    "    roll_no = 0\n",
    "\n",
    "details = Student()\n",
    "\n",
    "details.roll_no = 1221\n",
    "details.name = \"Prakhar Bajpai\"\n",
    "\n",
    "print(f\"Name: {details.name}, Roll Number: {details.roll_no} \")\n",
    "\n",
    "Output:\n",
    "\n",
    "Name: Prakhar Bajpai, Roll Number: 1221 "
   ]
  },
  {
   "cell_type": "markdown",
   "id": "49360f3c-b72d-4d5d-a51a-d6f00ed64d17",
   "metadata": {},
   "source": [
    "Q2. Name the four pillars of OOPs."
   ]
  },
  {
   "cell_type": "markdown",
   "id": "5297d901-3eac-47f8-ab46-49df4fb2ad17",
   "metadata": {},
   "source": [
    "Answer:\n",
    "\n",
    "The four pillars of object-oriented programming are:\n",
    "\n",
    "1. Abstraction\n",
    "2. Encapsulation\n",
    "3. Inheritance\n",
    "4. Polymorphism"
   ]
  },
  {
   "cell_type": "markdown",
   "id": "7aafe31f-f420-4dc0-a4fa-9b352f06819d",
   "metadata": {},
   "source": [
    "Q3. Explain why the __init__() function is used. Give a suitable example."
   ]
  },
  {
   "cell_type": "markdown",
   "id": "19e65984-0dbd-45c6-bce1-fc4432fd2a09",
   "metadata": {},
   "source": [
    "Answer:\n",
    "\n",
    "The __init__ function is called every time an object is created from a class. The __init__ method lets the class initialize the object's attributes and serves no other purpose. It is only used within classes.\n",
    "\n",
    "Example:\n",
    "\n",
    "class Person:\n",
    "    def __init__(self, name):\n",
    "        self.name = name\n",
    "    def details(self):\n",
    "        print(\"Name : \", self.name)\n",
    "p = Person('Prakhar Bajpai')\n",
    "p.details()"
   ]
  },
  {
   "cell_type": "markdown",
   "id": "6c3e9837-0f1e-4165-adbd-aa3f912ace89",
   "metadata": {},
   "source": [
    "Q4. Why self is used in OOPs?"
   ]
  },
  {
   "cell_type": "markdown",
   "id": "1b7a5b4b-c330-4ca6-9458-9cb8ef823aff",
   "metadata": {},
   "source": [
    "Answer:\n",
    "\n",
    "The self variable is used to represent the instance of the class which is often used in object-oriented programming. It works as a reference to the object."
   ]
  },
  {
   "cell_type": "markdown",
   "id": "70cab6d2-f5e0-46f0-8e3a-810b6f870081",
   "metadata": {},
   "source": [
    "Q5. What is inheritance? Give an example for each type of inheritance."
   ]
  },
  {
   "cell_type": "markdown",
   "id": "41f68b14-6431-4867-b963-1d9fd000a021",
   "metadata": {},
   "source": [
    "Answer:\n",
    "\n",
    "Inheritance is the property of Python through which the object can acquire all of a parent object's properties and behaviors. It is one of the most important Features of Object Oriented Programming.\n",
    "\n",
    "There are five types of Inheritance in Python.\n",
    "1. Single Inheritance\n",
    "2. Multiple Inheritance\n",
    "3. Multilevel Inheritance\n",
    "4. Hierarchical Inheritance\n",
    "5. Hybrid Inheritance\n",
    "\n",
    "Example:"
   ]
  },
  {
   "cell_type": "code",
   "execution_count": 1,
   "id": "2a04135f-6475-48fe-9323-205f7a1ddb90",
   "metadata": {},
   "outputs": [
    {
     "name": "stdout",
     "output_type": "stream",
     "text": [
      "I am father.\n",
      "I am son.\n"
     ]
    }
   ],
   "source": [
    "#1. Single Inheritance\n",
    "\n",
    "class Father:\n",
    "\n",
    "    def function_1(self):\n",
    "        print ('I am father.')\n",
    "\n",
    "class Children(Father):\n",
    "\n",
    "    def function_2(self):\n",
    "        print ('I am son.')\n",
    "\n",
    "object = Children()\n",
    "object.function_1()\n",
    "object.function_2()"
   ]
  },
  {
   "cell_type": "code",
   "execution_count": 2,
   "id": "4fe5305f-bd01-4dcd-82a4-548e3ea75851",
   "metadata": {},
   "outputs": [
    {
     "name": "stdout",
     "output_type": "stream",
     "text": [
      "I am father.\n",
      "I am Mother.\n",
      "I am son.\n"
     ]
    }
   ],
   "source": [
    "#2. Multiple Inheritance\n",
    "\n",
    "class Father:\n",
    "\n",
    "    def function_1(self):\n",
    "        print ('I am father.')\n",
    "        \n",
    "class Mother:\n",
    "\n",
    "    def function_2(self):\n",
    "        print ('I am Mother.')\n",
    "\n",
    "class Children(Father, Mother):\n",
    "\n",
    "    def function_3(self):\n",
    "        print ('I am son.')\n",
    "\n",
    "object = Children()\n",
    "object.function_1()\n",
    "object.function_2()\n",
    "object.function_3()"
   ]
  },
  {
   "cell_type": "code",
   "execution_count": 5,
   "id": "293dc21d-5a71-4b6e-8d8e-d026d8885ae9",
   "metadata": {},
   "outputs": [
    {
     "name": "stdout",
     "output_type": "stream",
     "text": [
      "I am Grand father.\n",
      "I am father.\n",
      "I am son.\n"
     ]
    }
   ],
   "source": [
    "#3. Multilevel Inheritance\n",
    "\n",
    "class Grand_Father:\n",
    "\n",
    "    def function_1(self):\n",
    "        print ('I am Grand father.')\n",
    "        \n",
    "class Father(Grand_Father):\n",
    "\n",
    "    def function_2(self):\n",
    "        print ('I am father.')\n",
    "\n",
    "class Children(Father):\n",
    "\n",
    "    def function_3(self):\n",
    "        print ('I am son.')\n",
    "\n",
    "object = Children()\n",
    "object.function_1()\n",
    "object.function_2()\n",
    "object.function_3()"
   ]
  },
  {
   "cell_type": "code",
   "execution_count": 6,
   "id": "ff668d35-a57e-468c-a792-c21d8ed512c4",
   "metadata": {},
   "outputs": [
    {
     "name": "stdout",
     "output_type": "stream",
     "text": [
      "I am father.\n",
      "I am son.\n",
      "I am Daughter.\n"
     ]
    }
   ],
   "source": [
    "#4. Hierarchical Inheritance\n",
    "\n",
    "class Father:\n",
    "\n",
    "    def function_1(self):\n",
    "        print ('I am father.')\n",
    "\n",
    "class Children1(Father):\n",
    "\n",
    "    def function_2(self):\n",
    "        print ('I am son.')\n",
    "        \n",
    "class Children2(Father):\n",
    "\n",
    "    def function_3(self):\n",
    "        print ('I am Daughter.')\n",
    "\n",
    "object=Children1()\n",
    "object1=Children2()\n",
    "object.function_1()\n",
    "object.function_2()\n",
    "object1.function_3()"
   ]
  },
  {
   "cell_type": "code",
   "execution_count": null,
   "id": "c09c3f4f-9d44-4a56-8164-37db9e396401",
   "metadata": {},
   "outputs": [],
   "source": [
    "#5. Hybrid Inheritance\n",
    "\n",
    "class Grand_Father:\n",
    "\n",
    "    def function_1(self):\n",
    "        print ('I am Grand father.')\n",
    "        \n",
    "class Father(Grand_Father):\n",
    "\n",
    "    def function_2(self):\n",
    "        print ('I am father.')\n",
    "\n",
    "class Mother():\n",
    "\n",
    "    def function_3(self):\n",
    "        print ('I am Mother.')\n",
    "        \n",
    "class Children(Father, Mother):\n",
    "\n",
    "    def function_4(self):\n",
    "        print ('I am son.')\n",
    "\n",
    "object = Children()\n",
    "object.function_1()\n",
    "object.function_2()\n",
    "object.function_3()\n",
    "object.function_4()"
   ]
  }
 ],
 "metadata": {
  "kernelspec": {
   "display_name": "Python 3 (ipykernel)",
   "language": "python",
   "name": "python3"
  },
  "language_info": {
   "codemirror_mode": {
    "name": "ipython",
    "version": 3
   },
   "file_extension": ".py",
   "mimetype": "text/x-python",
   "name": "python",
   "nbconvert_exporter": "python",
   "pygments_lexer": "ipython3",
   "version": "3.10.8"
  }
 },
 "nbformat": 4,
 "nbformat_minor": 5
}
