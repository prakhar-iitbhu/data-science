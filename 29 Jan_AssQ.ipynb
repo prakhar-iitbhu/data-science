{
 "cells": [
  {
   "cell_type": "markdown",
   "id": "ee7b0f10-03c1-453e-bb3b-c56f97531222",
   "metadata": {},
   "source": [
    "Q1. Who developed Python Programming Language?"
   ]
  },
  {
   "cell_type": "markdown",
   "id": "f3b5f03d-a2a9-4d3f-aba7-7a46fef111c0",
   "metadata": {},
   "source": [
    "Answer:\n",
    "\n",
    "Python was created by Guido van Rossum, and first released on February 20, 1991."
   ]
  },
  {
   "cell_type": "markdown",
   "id": "31773d52-8949-49c1-aff9-b4e4676db82f",
   "metadata": {},
   "source": [
    "Q.2 Which type of Programming does Python support?"
   ]
  },
  {
   "cell_type": "markdown",
   "id": "44da46a1-7ef2-4c55-aae0-f048e3219eb2",
   "metadata": {},
   "source": [
    "Answer:\n",
    "\n",
    "Python is a multi-paradigm programming language. Object-oriented programming and structured programming are fully supported, and many of their features support functional programming and aspect-oriented programming (including metaprogramming and metaobjects)."
   ]
  },
  {
   "cell_type": "markdown",
   "id": "26327ba0-e8a6-4874-bac1-7e18cd8d4763",
   "metadata": {},
   "source": [
    "Q3. Is Python case sensitive when dealing with identifiers?"
   ]
  },
  {
   "cell_type": "markdown",
   "id": "974e2c32-f3bb-4b6c-b36f-35d1eb159be2",
   "metadata": {},
   "source": [
    "Answer:\n",
    "\n",
    "Yes, Python is a case−sensitive programming language. This means that it considers uppercase and lowercase letters differently."
   ]
  },
  {
   "cell_type": "markdown",
   "id": "3f3c6c47-dc11-4ee3-be98-4baefc6be425",
   "metadata": {},
   "source": [
    "Q4.What is the correct extension of the Python file?"
   ]
  },
  {
   "cell_type": "markdown",
   "id": "3027ceda-f271-4076-bfed-89f790b66bd6",
   "metadata": {},
   "source": [
    "Answer:\n",
    "\n",
    "The extensions for Python files are - .py, .pyi, .pyc, .pyd, .pyo, .pyw, and .pyz."
   ]
  },
  {
   "cell_type": "markdown",
   "id": "b3ff831f-68e0-42cb-83e0-6f10018a8c59",
   "metadata": {},
   "source": [
    "Q5. Is Python code compiled or interpreted?"
   ]
  },
  {
   "cell_type": "markdown",
   "id": "1654b70f-b5ee-4ecf-add3-38171ff8bd49",
   "metadata": {},
   "source": [
    "Answer:\n",
    "\n",
    "Python is an interpreted language, which means the source code of a Python program is converted into bytecode that is then executed by the Python virtual machine."
   ]
  },
  {
   "cell_type": "markdown",
   "id": "5960af2b-6692-46ff-9b84-cee679487b9c",
   "metadata": {},
   "source": [
    "Q6. Name a few blocks of code used to define in Python language?"
   ]
  },
  {
   "cell_type": "markdown",
   "id": "e21ee436-0496-4317-998e-a23da7fc5a9d",
   "metadata": {},
   "source": [
    "Answer:\n",
    "\n",
    "A Python program is constructed from code blocks. A block is a piece of Python program text that is executed as a unit. The following are blocks: a module, a function body, and a class definition."
   ]
  },
  {
   "cell_type": "markdown",
   "id": "4076d290-44d4-4811-8bef-5cb26e21cd37",
   "metadata": {},
   "source": [
    "Q7. State a character used to give single-line comments in Python?"
   ]
  },
  {
   "cell_type": "markdown",
   "id": "3bf7467e-0322-40a9-a60a-0140d363e104",
   "metadata": {},
   "source": [
    "Answer:\n",
    "\n",
    "Comments in Python are identified with a hash symbol, #, and extend to the end of the line."
   ]
  },
  {
   "cell_type": "markdown",
   "id": "991428c2-9a5e-490f-931e-625daf539ba9",
   "metadata": {},
   "source": [
    "Q8. Mention functions which can help us to find the version of python that we are currently working on?"
   ]
  },
  {
   "cell_type": "markdown",
   "id": "93b6c5ac-0223-4704-b7b1-0d867cce3920",
   "metadata": {},
   "source": [
    "Answer:\n",
    "\n",
    "We can use the sys.version method present in the sys (system) module to print the version of the Python interpreter installed on the system. The sys.version method returns a string that contains the version number of the Python interpreter installed in the system."
   ]
  },
  {
   "cell_type": "markdown",
   "id": "24818b07-6fb2-48f4-8d9f-db3aff0a3f83",
   "metadata": {},
   "source": [
    "Q9. Python supports the creation of anonymous functions at runtime, using a construct called ______"
   ]
  },
  {
   "cell_type": "markdown",
   "id": "59c87c59-5ffb-45f0-8846-a9d53dcef28d",
   "metadata": {},
   "source": [
    "Answer:\n",
    "\n",
    "Lambda\n",
    "\n",
    "Python supports the creation of anonymous functions (i.e. functions that are not bound to a name) at runtime, using a construct called lambda."
   ]
  },
  {
   "cell_type": "markdown",
   "id": "9c828731-35ed-4cbb-ab6d-5ab089e3f220",
   "metadata": {},
   "source": [
    "Q10. What does pip stands for python?"
   ]
  },
  {
   "cell_type": "markdown",
   "id": "b9a35b2d-da6d-46d5-bde2-6b9a6e8d1206",
   "metadata": {},
   "source": [
    "Answer:\n",
    "\n",
    "PIP is a recursive acronym for “Preferred Installer Program” or PIP Installs Packages. It is a command-line utility that installs, reinstalls, or uninstalls PyPI packages with one simple command: pip."
   ]
  },
  {
   "cell_type": "markdown",
   "id": "5f003cfb-69a4-48b7-b674-9196c7a5cb7b",
   "metadata": {},
   "source": [
    "Q11. Mention a few built-in functions in python?"
   ]
  },
  {
   "cell_type": "markdown",
   "id": "b6489bfe-5eb4-4a62-8cfa-067f35e2f5f9",
   "metadata": {},
   "source": [
    "Answer:\n",
    "\n",
    "print()\n",
    "len()\n",
    "range()\n",
    "str()\n",
    "int()\n",
    "float()\n",
    "max()\n",
    "min()\n",
    "sorted()\n",
    "type()\n",
    "input()\n",
    "sum()\n",
    "abs()\n",
    "round()\n",
    "chr()"
   ]
  },
  {
   "cell_type": "markdown",
   "id": "a8eaa92f-0036-44ad-8576-59e357108347",
   "metadata": {},
   "source": [
    "Q12. What is the maximum possible length of an identifier in Python?"
   ]
  },
  {
   "cell_type": "markdown",
   "id": "6e2c900a-5ce8-40fb-a8b6-79b7a1568823",
   "metadata": {},
   "source": [
    "Answer:\n",
    "\n",
    "An identifier can have a maximum length of 79 characters in Python."
   ]
  },
  {
   "cell_type": "markdown",
   "id": "5b77c53a-e9c7-4de9-8a24-945a025c8b3a",
   "metadata": {},
   "source": [
    "Q13. What are the benefits of using Python?"
   ]
  },
  {
   "cell_type": "markdown",
   "id": "646b1f88-7f12-44d8-ab73-167ad6f375aa",
   "metadata": {},
   "source": [
    "Answer:\n",
    "\n",
    "1. Presence of third-party modules \n",
    "2. Extensive support libraries(NumPy for numerical calculations, Pandas for data analytics, etc.) \n",
    "3. Open source and large active community base \n",
    "4. Versatile, Easy to read, learn and write\n",
    "5. User-friendly data structures \n",
    "6. High-level language \n",
    "7. Dynamically typed language(No need to mention data type based on the value assigned, it takes data type) \n",
    "8. Object-Oriented and Procedural  Programming language\n",
    "9. Portable and Interactive\n",
    "10. Ideal for prototypes – provide more functionality with less coding\n",
    "11. Highly Efficient(Python’s clean object-oriented design provides enhanced process control, and the language is equipped with excellent text processing and integration capabilities, as well as its own unit testing framework, which makes it more efficient.)\n",
    "12. Internet of Things(IoT) Opportunities\n",
    "13. Interpreted Language\n",
    "14. Portable across Operating systems "
   ]
  },
  {
   "cell_type": "markdown",
   "id": "15191cf3-6a99-4852-b115-36fc1e208c47",
   "metadata": {},
   "source": [
    "Q14. How is memory managed in Python?"
   ]
  },
  {
   "cell_type": "markdown",
   "id": "d0591489-26f6-45f0-bba6-eb6b5073cc27",
   "metadata": {},
   "source": [
    "Answer:\n",
    "\n",
    "Memory management in Python involves a private heap containing all Python objects and data structures. The management of this private heap is ensured internally by the Python memory manager."
   ]
  },
  {
   "cell_type": "markdown",
   "id": "cd9f585c-91a6-4167-93b8-aa6e6a014ebb",
   "metadata": {},
   "source": [
    "Q15. How to install Python on Windows and set path variables?"
   ]
  },
  {
   "cell_type": "markdown",
   "id": "b3d5b6cc-9303-4a6f-8be6-8484c19b5cde",
   "metadata": {},
   "source": [
    "Answer:\n",
    "\n",
    "Download python from this link https://www.python.org/downloads/\n",
    "After this, install it on your PC. \n",
    "\n",
    "To set path variables:\n",
    "1. Right click on My Computer and click on properties.\n",
    "2. Click on Advanced System settings.\n",
    "3. Click on Environment Variable tab.\n",
    "4. Click on new tab of user variables.\n",
    "5. Write path in variable name.\n",
    "6. Copy the path of Python folder.\n",
    "7. Paste path of Python in variable value.\n",
    "8. Click on Ok button."
   ]
  },
  {
   "cell_type": "markdown",
   "id": "879a3aca-ac2a-4267-9809-0415ea3e5761",
   "metadata": {},
   "source": [
    "Q16. Is indentation required in Python?"
   ]
  },
  {
   "cell_type": "markdown",
   "id": "8057b377-0d80-405a-a7b7-688d8f1bcdb6",
   "metadata": {},
   "source": [
    "Answer:\n",
    "\n",
    "Indentation is mandatory in python to define the blocks of statements."
   ]
  }
 ],
 "metadata": {
  "kernelspec": {
   "display_name": "Python 3 (ipykernel)",
   "language": "python",
   "name": "python3"
  },
  "language_info": {
   "codemirror_mode": {
    "name": "ipython",
    "version": 3
   },
   "file_extension": ".py",
   "mimetype": "text/x-python",
   "name": "python",
   "nbconvert_exporter": "python",
   "pygments_lexer": "ipython3",
   "version": "3.10.8"
  }
 },
 "nbformat": 4,
 "nbformat_minor": 5
}
